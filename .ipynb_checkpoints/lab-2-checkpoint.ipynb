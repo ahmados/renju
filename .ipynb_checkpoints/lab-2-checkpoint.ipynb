{
 "cells": [
  {
   "cell_type": "markdown",
   "metadata": {},
   "source": [
    "# L2 - Multilayer perceptron\n",
    "\n",
    "### Papers\n",
    "1. [TensorFlow](https://static.googleusercontent.com/media/research.google.com/en//pubs/archive/45166.pdf)\n",
    "\n",
    "### TensorFlow\n",
    "1. [Installing TensorFlow](https://www.tensorflow.org/install/)\n",
    "2. [Basics of TensorFlow](https://www.tensorflow.org/get_started/get_started)\n",
    "3. [Mnist with TensorFlow](https://www.tensorflow.org/get_started/mnist/pros)\n",
    "4. [TensorFlow Mechanics](https://www.tensorflow.org/get_started/mnist/mechanics)\n",
    "5. [Visualization](https://www.tensorflow.org/get_started/graph_viz)\n",
    "\n",
    "\n",
    "### One more thing\n",
    "1. [Jupyter tutorial](https://habrahabr.ru/company/wunderfund/blog/316826/)\n",
    "2. [Plot.ly](https://plot.ly/python/)\n",
    "3. [Widgets](http://jupyter.org/widgets.html)"
   ]
  },
  {
   "cell_type": "markdown",
   "metadata": {},
   "source": [
    "### 1. Linear multi-classification problem\n",
    "\n",
    "We have already learned binary linear classifier\n",
    "$$y = \\text{sign}(w^Tx).$$\n",
    "There are [several approaches](https://en.wikipedia.org/wiki/Multiclass_classification) to solve the problem of multi-class classification. For example [reduction](https://en.wikipedia.org/wiki/Multiclass_classification#Transformation_to_Binary) of problem to binary classifier or [modification](https://en.wikipedia.org/wiki/Support_vector_machine#Multiclass_SVM) of the known model. However we are interested in approaches that is applied in neural networks.\n",
    "\n",
    "For each class $c \\in 1, \\dots, |C|$ we have an individual row $w_i$ of matrix $W$. Then the probability of $x$ belonging to a particular class is equal to\n",
    "$$p_i = \\frac{\\exp(w^T_ix)}{\\sum_j \\exp(w^T_jx)}.$$\n",
    "This is nothing, but [softmax](https://en.wikipedia.org/wiki/Softmax_function) function of $Wx$.\n",
    "$$(p_1, \\dots, p_{|C|}) = \\text{softmax}(Wx).$$\n",
    "\n",
    "If you look closely, $\\text{softmax}$ is a more general variant of sigmoid. To see this, it suffices to consider the case $|C|=2$. As usual the training can be reduced to minimization of the empirical risk, namely, optimization problem\n",
    "$$\\arg\\min_W Q(W) = \\arg\\min_W -\\frac{1}{\\mathcal{l}}\\sum_y\\sum_i [y = i] \\cdot \\ln(p_i(W)).$$\n",
    "Actually, the maximization of the log-likelihood is written above.\n",
    "\n",
    "#### Exercises\n",
    "1. Find $\\frac{dQ}{dW}$ in matrix form (hint: start with $\\frac{dQ}{dw_i}$ for begining).\n",
    "2. Please plot several mnist images (e.g using grid 5x5).\n",
    "3. Train linear multi-label classifier for [mnist](https://www.kaggle.com/c/digit-recognizer) dataset with TensorFlow (possible, [this tutorial](https://www.tensorflow.org/get_started/mnist/pros) can help you).\n",
    "4. Chek accuracy on train and validation sets.\n",
    "5. Use a local [TensorBoard instance](https://www.tensorflow.org/get_started/graph_viz) to visualize resulted graph (no need to include in lab)."
   ]
  },
  {
   "cell_type": "code",
   "execution_count": 1,
   "metadata": {
    "collapsed": true
   },
   "outputs": [],
   "source": [
    "import numpy as np\n",
    "import pandas as pd\n",
    "import tensorflow as tf\n",
    "import matplotlib.pyplot as plt\n",
    "from sklearn.model_selection import train_test_split"
   ]
  },
  {
   "cell_type": "code",
   "execution_count": 2,
   "metadata": {
    "collapsed": true
   },
   "outputs": [],
   "source": [
    "df = pd.read_csv('train.csv')"
   ]
  },
  {
   "cell_type": "code",
   "execution_count": 3,
   "metadata": {},
   "outputs": [
    {
     "data": {
      "text/html": [
       "<div>\n",
       "<style>\n",
       "    .dataframe thead tr:only-child th {\n",
       "        text-align: right;\n",
       "    }\n",
       "\n",
       "    .dataframe thead th {\n",
       "        text-align: left;\n",
       "    }\n",
       "\n",
       "    .dataframe tbody tr th {\n",
       "        vertical-align: top;\n",
       "    }\n",
       "</style>\n",
       "<table border=\"1\" class=\"dataframe\">\n",
       "  <thead>\n",
       "    <tr style=\"text-align: right;\">\n",
       "      <th></th>\n",
       "      <th>label</th>\n",
       "      <th>pixel0</th>\n",
       "      <th>pixel1</th>\n",
       "      <th>pixel2</th>\n",
       "      <th>pixel3</th>\n",
       "      <th>pixel4</th>\n",
       "      <th>pixel5</th>\n",
       "      <th>pixel6</th>\n",
       "      <th>pixel7</th>\n",
       "      <th>pixel8</th>\n",
       "      <th>...</th>\n",
       "      <th>pixel774</th>\n",
       "      <th>pixel775</th>\n",
       "      <th>pixel776</th>\n",
       "      <th>pixel777</th>\n",
       "      <th>pixel778</th>\n",
       "      <th>pixel779</th>\n",
       "      <th>pixel780</th>\n",
       "      <th>pixel781</th>\n",
       "      <th>pixel782</th>\n",
       "      <th>pixel783</th>\n",
       "    </tr>\n",
       "  </thead>\n",
       "  <tbody>\n",
       "    <tr>\n",
       "      <th>0</th>\n",
       "      <td>1</td>\n",
       "      <td>0</td>\n",
       "      <td>0</td>\n",
       "      <td>0</td>\n",
       "      <td>0</td>\n",
       "      <td>0</td>\n",
       "      <td>0</td>\n",
       "      <td>0</td>\n",
       "      <td>0</td>\n",
       "      <td>0</td>\n",
       "      <td>...</td>\n",
       "      <td>0</td>\n",
       "      <td>0</td>\n",
       "      <td>0</td>\n",
       "      <td>0</td>\n",
       "      <td>0</td>\n",
       "      <td>0</td>\n",
       "      <td>0</td>\n",
       "      <td>0</td>\n",
       "      <td>0</td>\n",
       "      <td>0</td>\n",
       "    </tr>\n",
       "    <tr>\n",
       "      <th>1</th>\n",
       "      <td>0</td>\n",
       "      <td>0</td>\n",
       "      <td>0</td>\n",
       "      <td>0</td>\n",
       "      <td>0</td>\n",
       "      <td>0</td>\n",
       "      <td>0</td>\n",
       "      <td>0</td>\n",
       "      <td>0</td>\n",
       "      <td>0</td>\n",
       "      <td>...</td>\n",
       "      <td>0</td>\n",
       "      <td>0</td>\n",
       "      <td>0</td>\n",
       "      <td>0</td>\n",
       "      <td>0</td>\n",
       "      <td>0</td>\n",
       "      <td>0</td>\n",
       "      <td>0</td>\n",
       "      <td>0</td>\n",
       "      <td>0</td>\n",
       "    </tr>\n",
       "    <tr>\n",
       "      <th>2</th>\n",
       "      <td>1</td>\n",
       "      <td>0</td>\n",
       "      <td>0</td>\n",
       "      <td>0</td>\n",
       "      <td>0</td>\n",
       "      <td>0</td>\n",
       "      <td>0</td>\n",
       "      <td>0</td>\n",
       "      <td>0</td>\n",
       "      <td>0</td>\n",
       "      <td>...</td>\n",
       "      <td>0</td>\n",
       "      <td>0</td>\n",
       "      <td>0</td>\n",
       "      <td>0</td>\n",
       "      <td>0</td>\n",
       "      <td>0</td>\n",
       "      <td>0</td>\n",
       "      <td>0</td>\n",
       "      <td>0</td>\n",
       "      <td>0</td>\n",
       "    </tr>\n",
       "    <tr>\n",
       "      <th>3</th>\n",
       "      <td>4</td>\n",
       "      <td>0</td>\n",
       "      <td>0</td>\n",
       "      <td>0</td>\n",
       "      <td>0</td>\n",
       "      <td>0</td>\n",
       "      <td>0</td>\n",
       "      <td>0</td>\n",
       "      <td>0</td>\n",
       "      <td>0</td>\n",
       "      <td>...</td>\n",
       "      <td>0</td>\n",
       "      <td>0</td>\n",
       "      <td>0</td>\n",
       "      <td>0</td>\n",
       "      <td>0</td>\n",
       "      <td>0</td>\n",
       "      <td>0</td>\n",
       "      <td>0</td>\n",
       "      <td>0</td>\n",
       "      <td>0</td>\n",
       "    </tr>\n",
       "    <tr>\n",
       "      <th>4</th>\n",
       "      <td>0</td>\n",
       "      <td>0</td>\n",
       "      <td>0</td>\n",
       "      <td>0</td>\n",
       "      <td>0</td>\n",
       "      <td>0</td>\n",
       "      <td>0</td>\n",
       "      <td>0</td>\n",
       "      <td>0</td>\n",
       "      <td>0</td>\n",
       "      <td>...</td>\n",
       "      <td>0</td>\n",
       "      <td>0</td>\n",
       "      <td>0</td>\n",
       "      <td>0</td>\n",
       "      <td>0</td>\n",
       "      <td>0</td>\n",
       "      <td>0</td>\n",
       "      <td>0</td>\n",
       "      <td>0</td>\n",
       "      <td>0</td>\n",
       "    </tr>\n",
       "  </tbody>\n",
       "</table>\n",
       "<p>5 rows × 785 columns</p>\n",
       "</div>"
      ],
      "text/plain": [
       "   label  pixel0  pixel1  pixel2  pixel3  pixel4  pixel5  pixel6  pixel7  \\\n",
       "0      1       0       0       0       0       0       0       0       0   \n",
       "1      0       0       0       0       0       0       0       0       0   \n",
       "2      1       0       0       0       0       0       0       0       0   \n",
       "3      4       0       0       0       0       0       0       0       0   \n",
       "4      0       0       0       0       0       0       0       0       0   \n",
       "\n",
       "   pixel8    ...     pixel774  pixel775  pixel776  pixel777  pixel778  \\\n",
       "0       0    ...            0         0         0         0         0   \n",
       "1       0    ...            0         0         0         0         0   \n",
       "2       0    ...            0         0         0         0         0   \n",
       "3       0    ...            0         0         0         0         0   \n",
       "4       0    ...            0         0         0         0         0   \n",
       "\n",
       "   pixel779  pixel780  pixel781  pixel782  pixel783  \n",
       "0         0         0         0         0         0  \n",
       "1         0         0         0         0         0  \n",
       "2         0         0         0         0         0  \n",
       "3         0         0         0         0         0  \n",
       "4         0         0         0         0         0  \n",
       "\n",
       "[5 rows x 785 columns]"
      ]
     },
     "execution_count": 3,
     "metadata": {},
     "output_type": "execute_result"
    }
   ],
   "source": [
    "df.head()"
   ]
  },
  {
   "cell_type": "code",
   "execution_count": 4,
   "metadata": {},
   "outputs": [],
   "source": [
    "data = df.as_matrix()"
   ]
  },
  {
   "cell_type": "code",
   "execution_count": 5,
   "metadata": {},
   "outputs": [],
   "source": [
    "%matplotlib inline\n",
    "image1 = np.zeros((28, 28))\n",
    "image2 = np.zeros((28, 28))\n",
    "image3 = np.zeros((28, 28))\n",
    "for i in range(784):\n",
    "    image1[(i//28)][(i%28)] = data[0][i]\n",
    "    image2[(i//28)][(i%28)] = data[1][i]\n",
    "    image3[(i//28)][(i%28)] = data[3][i]"
   ]
  },
  {
   "cell_type": "code",
   "execution_count": 6,
   "metadata": {},
   "outputs": [
    {
     "data": {
      "text/plain": [
       "<matplotlib.colorbar.Colorbar at 0x12e2ab7f0>"
      ]
     },
     "execution_count": 6,
     "metadata": {},
     "output_type": "execute_result"
    },
    {
     "data": {
      "image/png": "[encoded data removed]",
      "text/plain": [
       "<matplotlib.figure.Figure at 0x11d960a20>"
      ]
     },
     "metadata": {},
     "output_type": "display_data"
    }
   ],
   "source": [
    "plt.imshow(image1, cmap='hot')\n",
    "plt.colorbar()"
   ]
  },
  {
   "cell_type": "code",
   "execution_count": 7,
   "metadata": {},
   "outputs": [
    {
     "data": {
      "text/plain": [
       "<matplotlib.colorbar.Colorbar at 0x12e1ffef0>"
      ]
     },
     "execution_count": 7,
     "metadata": {},
     "output_type": "execute_result"
    },
    {
     "data": {
      "image/png": "[encoded data removed]",
      "text/plain": [
       "<matplotlib.figure.Figure at 0x12e262828>"
      ]
     },
     "metadata": {},
     "output_type": "display_data"
    }
   ],
   "source": [
    "plt.imshow(image2, cmap='hot')\n",
    "plt.colorbar()"
   ]
  },
  {
   "cell_type": "code",
   "execution_count": 8,
   "metadata": {},
   "outputs": [
    {
     "data": {
      "text/plain": [
       "<matplotlib.colorbar.Colorbar at 0x12e077a58>"
      ]
     },
     "execution_count": 8,
     "metadata": {},
     "output_type": "execute_result"
    },
    {
     "data": {
      "image/png": "[encoded data removed]",
      "text/plain": [
       "<matplotlib.figure.Figure at 0x12e05eda0>"
      ]
     },
     "metadata": {},
     "output_type": "display_data"
    }
   ],
   "source": [
    "plt.imshow(image3, cmap='hot')\n",
    "plt.colorbar()"
   ]
  },
  {
   "cell_type": "code",
   "execution_count": 9,
   "metadata": {},
   "outputs": [],
   "source": [
    "y = df['label']\n",
    "df = df.drop(['label'], axis=1)"
   ]
  },
  {
   "cell_type": "code",
   "execution_count": 10,
   "metadata": {},
   "outputs": [],
   "source": [
    "X_train, X_test, y_train, y_test = train_test_split(df, y, test_size=0.2)"
   ]
  },
  {
   "cell_type": "code",
   "execution_count": 11,
   "metadata": {},
   "outputs": [
    {
     "name": "stdout",
     "output_type": "stream",
     "text": [
      "(33600, 784)\n",
      "(8400, 784)\n",
      "(33600,)\n",
      "(8400,)\n"
     ]
    }
   ],
   "source": [
    "print(X_train.shape)\n",
    "print(X_test.shape)\n",
    "print(y_train.shape)\n",
    "print(y_test.shape)"
   ]
  },
  {
   "cell_type": "code",
   "execution_count": 12,
   "metadata": {},
   "outputs": [
    {
     "name": "stdout",
     "output_type": "stream",
     "text": [
      "Extracting MNIST_data/train-images-idx3-ubyte.gz\n",
      "Extracting MNIST_data/train-labels-idx1-ubyte.gz\n",
      "Extracting MNIST_data/t10k-images-idx3-ubyte.gz\n",
      "Extracting MNIST_data/t10k-labels-idx1-ubyte.gz\n"
     ]
    }
   ],
   "source": [
    "from tensorflow.examples.tutorials.mnist import input_data\n",
    "mnist = input_data.read_data_sets(\"MNIST_data/\", one_hot=True)"
   ]
  },
  {
   "cell_type": "code",
   "execution_count": 13,
   "metadata": {},
   "outputs": [],
   "source": [
    "x = tf.placeholder(tf.float32, [None, 784])\n",
    "W = tf.Variable(tf.zeros([784, 10]))\n",
    "b = tf.Variable(tf.zeros([10]))\n",
    "y = tf.nn.softmax(tf.matmul(x, W) + b)\n"
   ]
  },
  {
   "cell_type": "code",
   "execution_count": 20,
   "metadata": {},
   "outputs": [],
   "source": [
    "y_ = tf.placeholder(tf.float32, [None, 10])\n",
    "# cross_entropy loss function\n",
    "cross_entropy = tf.reduce_mean(-tf.reduce_sum(y_ * tf.log(y), reduction_indices=[1]))\n",
    "# configuring train step\n",
    "train_step = tf.train.GradientDescentOptimizer(0.5).minimize(cross_entropy)\n",
    "# session\n",
    "sess = tf.InteractiveSession()\n",
    "writer = tf.summary.FileWriter(\"/Users/ahmad/Desktop/renju/Renju\", sess.graph)\n",
    "#initializing all variables\n",
    "tf.global_variables_initializer().run()"
   ]
  },
  {
   "cell_type": "code",
   "execution_count": 21,
   "metadata": {},
   "outputs": [],
   "source": [
    "### 1000 epochs\n",
    "for _ in range(1000):\n",
    "    batch_xs, batch_ys = mnist.train.next_batch(100)\n",
    "    sess.run(train_step, feed_dict={x: batch_xs, y_: batch_ys})"
   ]
  },
  {
   "cell_type": "code",
   "execution_count": 22,
   "metadata": {
    "collapsed": true
   },
   "outputs": [],
   "source": [
    "# estimating accuracy\n",
    "correct_prediction = tf.equal(tf.argmax(y,1), tf.argmax(y_,1))\n",
    "accuracy = tf.reduce_mean(tf.cast(correct_prediction, tf.float32))\n",
    "\n",
    "print(sess.run(accuracy, feed_dict={x: mnist.test.images, y_: mnist.test.labels}))"
   ]
  },
  {
   "cell_type": "markdown",
   "metadata": {},
   "source": []
  },
  {
   "cell_type": "markdown",
   "metadata": {},
   "source": [
    "Let's briefly touch on themes of regularization. As was discussed before, there are different approaches. We focus on the modification of loss function.\n",
    "\n",
    "$$\\arg\\min_W -\\frac{1}{\\mathcal{l}}\\sum_y\\sum_i [y = i] \\cdot \\ln(p_i(W)) + \\lambda_1 L_1(W) + \\lambda_2 L_2(W)$$\n",
    "\n",
    "1. $L_1(W) = sum_{i,j} |w_{i,j}|$ - sparsify weights (force to not use uncorrelated features)\n",
    "2. $L_2(W) = sum_{i,j} w_{i,j}^2$ - minimize weights (force to not overfit)\n",
    "\n",
    "#### Exercises\n",
    "1. Train model again using both type of regularization.\n",
    "2. Plot matrix of weights.\n",
    "3. Which pixels have zero weights? What does it mean?\n",
    "4. Have you improved accuracy on validation?"
   ]
  },
  {
   "cell_type": "code",
   "execution_count": 54,
   "metadata": {},
   "outputs": [],
   "source": [
    "x = tf.placeholder(tf.float32, [None, 784])\n",
    "W = tf.Variable(tf.zeros([784, 10]))\n",
    "b = tf.Variable(tf.zeros([10]))\n",
    "y = tf.nn.softmax(tf.matmul(x, W) + b)\n",
    "y_ = tf.placeholder(tf.float32, [None, 10])\n",
    "# regularized cross entropy\n",
    "L_1 = 0.001 * tf.reduce_sum(tf.reduce_sum(tf.abs(W)))\n",
    "L_2 = 0.0001 * tf.reduce_sum(tf.reduce_sum(tf.square(W)))\n",
    "cross_entropy_regularized = tf.reduce_mean(-tf.reduce_sum(y_ * tf.log(y), reduction_indices=[1])) + L_1 + L_2"
   ]
  },
  {
   "cell_type": "code",
   "execution_count": 55,
   "metadata": {
    "collapsed": true
   },
   "outputs": [],
   "source": [
    "train_step = tf.train.GradientDescentOptimizer(0.5).minimize(cross_entropy_regularized)\n",
    "sess = tf.InteractiveSession()\n",
    "writer = tf.summary.FileWriter(\"/Users/ahmad/Desktop/renju/Renju\", sess.graph)\n",
    "#initializing all variables\n",
    "tf.global_variables_initializer().run()"
   ]
  },
  {
   "cell_type": "code",
   "execution_count": 56,
   "metadata": {
    "collapsed": true
   },
   "outputs": [],
   "source": [
    "### 1000 epochs\n",
    "for _ in range(1000):\n",
    "    batch_xs, batch_ys = mnist.train.next_batch(100)\n",
    "    sess.run(train_step, feed_dict={x: batch_xs, y_: batch_ys})"
   ]
  },
  {
   "cell_type": "code",
   "execution_count": 57,
   "metadata": {},
   "outputs": [
    {
     "name": "stdout",
     "output_type": "stream",
     "text": [
      "0.9005\n"
     ]
    }
   ],
   "source": [
    "correct_prediction = tf.equal(tf.argmax(y,1), tf.argmax(y_,1))\n",
    "accuracy = tf.reduce_mean(tf.cast(correct_prediction, tf.float32))\n",
    "\n",
    "print(sess.run(accuracy, feed_dict={x: mnist.test.images, y_: mnist.test.labels}))"
   ]
  },
  {
   "cell_type": "code",
   "execution_count": 77,
   "metadata": {},
   "outputs": [],
   "source": [
    "weights = sess.run(W)"
   ]
  },
  {
   "cell_type": "code",
   "execution_count": 79,
   "metadata": {},
   "outputs": [
    {
     "data": {
      "text/plain": [
       "array([  0.00000000e+00,   0.00000000e+00,   0.00000000e+00,\n",
       "         0.00000000e+00,   0.00000000e+00,   0.00000000e+00,\n",
       "         0.00000000e+00,   0.00000000e+00,   0.00000000e+00,\n",
       "         0.00000000e+00,   0.00000000e+00,   0.00000000e+00,\n",
       "         4.85458353e-04,   4.73850057e-04,   4.85568366e-04,\n",
       "         4.93576983e-04,   0.00000000e+00,   0.00000000e+00,\n",
       "         0.00000000e+00,   0.00000000e+00,   0.00000000e+00,\n",
       "         0.00000000e+00,   0.00000000e+00,   0.00000000e+00,\n",
       "         0.00000000e+00,   0.00000000e+00,   0.00000000e+00,\n",
       "         0.00000000e+00,   0.00000000e+00,   0.00000000e+00,\n",
       "         0.00000000e+00,   0.00000000e+00,   4.80369024e-04,\n",
       "         4.80081129e-04,   3.31717951e-04,   1.71717023e-04,\n",
       "         9.94119619e-05,   8.97562713e-05,  -5.96306636e-05,\n",
       "         4.97323170e-04,  -3.92847811e-04,  -6.17410406e-05,\n",
       "        -3.49217094e-04,   1.06583786e-04,   1.14256341e-04,\n",
       "         4.98862937e-06,  -2.70903227e-04,   3.62247229e-04,\n",
       "        -6.77584030e-05,   2.30501784e-04,   4.34121088e-04,\n",
       "         4.81302268e-04,   0.00000000e+00,   0.00000000e+00,\n",
       "         0.00000000e+00,   0.00000000e+00,   0.00000000e+00,\n",
       "         0.00000000e+00,   4.87364945e-04,   2.22009839e-04,\n",
       "        -4.20520082e-04,  -1.63218065e-04,   4.49623563e-04,\n",
       "         1.39819342e-04,  -1.01864710e-03,  -8.15449166e-04,\n",
       "        -7.57674221e-04,  -4.56904207e-04,  -1.82562973e-04,\n",
       "        -3.33181932e-04,  -3.21514090e-05,  -3.26109148e-04,\n",
       "         1.43868267e-04,   2.65847077e-04,  -4.21755947e-04,\n",
       "         2.63034599e-05,   1.11279747e-04,   4.16754076e-04,\n",
       "         3.05139431e-04,   4.01988393e-04,  -4.58558847e-04,\n",
       "         4.34972520e-04,   0.00000000e+00,   0.00000000e+00,\n",
       "         0.00000000e+00,   0.00000000e+00,  -2.22269446e-05,\n",
       "        -2.02389085e-04,  -1.58589100e-05,  -4.22994373e-04,\n",
       "         6.75514457e-05,  -6.86512503e-04,  -7.93254876e-04,\n",
       "        -2.47224845e-04,   3.59746395e-04,   2.15241860e-04,\n",
       "        -5.08236699e-05,  -1.29826076e-05,   1.49129191e-04,\n",
       "         4.84748627e-04,   2.72558420e-04,  -3.58698599e-04,\n",
       "         2.18269182e-04,  -6.08753180e-06,   4.48860927e-04,\n",
       "        -3.93501832e-04,   4.14923241e-04,  -6.89673761e-05,\n",
       "         3.23988672e-04,  -3.34689597e-04,  -2.79101048e-04,\n",
       "         0.00000000e+00,   0.00000000e+00,  -1.10308174e-05,\n",
       "        -6.72587485e-05,   3.58148536e-04,  -3.57778394e-04,\n",
       "        -2.42553564e-04,  -1.05688779e-03,  -1.33369211e-03,\n",
       "        -8.58740765e-04,  -9.51692520e-04,  -5.63689391e-05,\n",
       "         2.39684538e-04,   2.79942527e-03,   1.20694295e-03,\n",
       "         1.46594143e-03,   3.63786472e-03,   4.99148446e-04,\n",
       "        -4.31290071e-04,  -6.48839865e-04,  -5.61530527e-04,\n",
       "         1.62644079e-04,   1.82287535e-03,   2.63084774e-04,\n",
       "         2.07421632e-04,   4.60396113e-04,  -7.09737069e-05,\n",
       "        -3.06144822e-04,  -3.55595257e-05,   0.00000000e+00,\n",
       "         0.00000000e+00,  -4.35121881e-04,  -1.76836009e-04,\n",
       "         1.64670957e-04,  -6.47616980e-05,  -7.48997380e-04,\n",
       "        -1.04815455e-03,  -1.35266467e-03,  -9.35262186e-04,\n",
       "        -1.46609545e-03,   3.70956725e-04,   2.47433386e-03,\n",
       "         3.46412091e-03,   5.90462890e-03,   7.62829781e-02,\n",
       "         4.61607464e-02,   2.72180531e-02,   4.19062842e-03,\n",
       "         3.81113798e-03,   5.89701114e-03,   4.97912569e-03,\n",
       "         4.51321155e-03,   3.38599784e-05,   2.79457599e-04,\n",
       "         1.40681135e-04,   3.85063904e-04,  -4.55551984e-04,\n",
       "         0.00000000e+00,  -2.17519701e-05,  -1.91191881e-04,\n",
       "         2.61711393e-04,   2.29389669e-04,   2.38035223e-04,\n",
       "        -8.61580716e-04,  -4.93079831e-04,  -1.08791422e-03,\n",
       "        -1.69412047e-03,  -1.39573566e-03,   8.33846978e-04,\n",
       "         4.36782604e-03,   8.23230366e-04,   4.60885577e-02,\n",
       "         6.82981238e-02,   1.09582126e-01,   1.57053396e-01,\n",
       "         1.34475648e-01,   2.74903160e-02,   1.13841202e-02,\n",
       "         1.55950077e-02,   8.25395901e-03,   2.09730072e-03,\n",
       "         8.69940850e-05,  -2.02453753e-04,   3.20929976e-04,\n",
       "         1.74403016e-04,   0.00000000e+00,   3.24142922e-04,\n",
       "         2.17220746e-04,  -1.50322710e-04,   1.56415044e-05,\n",
       "         1.82652991e-04,  -1.08368252e-03,  -2.78821128e-04,\n",
       "        -2.78938329e-03,  -7.11507630e-04,   3.30330012e-03,\n",
       "         2.46546674e-03,   2.55593937e-03,   1.59497540e-02,\n",
       "         2.38925666e-02,   3.32748108e-02,   7.39648938e-02,\n",
       "         1.46109521e-01,   1.32534608e-01,   6.03997968e-02,\n",
       "         1.31387208e-02,   1.61583088e-02,   2.44616233e-02,\n",
       "         3.48385586e-03,  -3.87801440e-04,  -1.48411782e-04,\n",
       "         5.42699127e-06,   3.30898183e-04,   4.80079325e-05,\n",
       "        -3.97656404e-04,  -5.31857368e-05,  -4.45710990e-04,\n",
       "        -2.13177147e-04,  -1.65936397e-03,  -3.46789276e-03,\n",
       "        -5.27038472e-03,  -5.51823853e-03,   2.96791038e-03,\n",
       "         5.73530234e-03,   2.46027042e-03,   1.30194630e-02,\n",
       "         3.67560983e-02,   3.54074016e-02,   7.32708648e-02,\n",
       "         1.82368532e-01,   1.41037688e-01,   8.82400423e-02,\n",
       "         5.07996716e-02,   2.22334508e-02,   1.89974625e-02,\n",
       "         5.46801984e-02,   1.21422401e-02,   1.28021801e-03,\n",
       "        -2.87553674e-04,  -4.21200617e-04,   1.14624505e-04,\n",
       "         4.32071596e-04,   1.03556929e-04,  -4.01904952e-04,\n",
       "         3.69754562e-04,   1.43920188e-05,  -2.07092403e-03,\n",
       "        -4.06046771e-03,  -5.97001612e-03,  -8.06247815e-04,\n",
       "         6.76461495e-03,   1.23880408e-03,   2.07966543e-03,\n",
       "         2.04746630e-02,   4.55285534e-02,   8.50020442e-03,\n",
       "         4.12410730e-03,   9.73754562e-03,   3.13671269e-02,\n",
       "         7.15768039e-02,   9.39660221e-02,   3.10371500e-02,\n",
       "         1.58171747e-02,   7.68847317e-02,   7.26210624e-02,\n",
       "         4.45919437e-03,   3.98918288e-04,   1.73666747e-04,\n",
       "         3.52847332e-04,   3.79325676e-04,  -4.31994471e-04,\n",
       "        -4.85645811e-04,   3.31757299e-04,   3.73717339e-04,\n",
       "        -2.14889552e-03,  -4.18845611e-03,  -6.33100164e-04,\n",
       "         3.57695040e-03,   8.75100400e-03,   6.31444342e-03,\n",
       "         1.48019595e-02,   2.00525913e-02,   1.37864025e-02,\n",
       "         3.57399043e-03,   1.56446383e-03,   7.00837187e-03,\n",
       "         7.16156512e-03,   5.68455178e-03,   2.93043442e-02,\n",
       "         8.92677307e-02,   5.94486594e-02,   1.49439603e-01,\n",
       "         2.00773790e-01,   7.58069288e-03,   1.17913005e-05,\n",
       "         1.43567915e-04,   1.53741159e-04,   3.93886585e-04,\n",
       "        -2.06367171e-04,   3.33730946e-04,  -4.34994523e-04,\n",
       "        -1.05506461e-03,  -1.40368100e-03,  -1.36795826e-03,\n",
       "         4.94420808e-03,   4.38355887e-03,   6.45253155e-03,\n",
       "         1.09072132e-02,   1.47294337e-02,   7.18873600e-03,\n",
       "         2.72711972e-03,  -1.24252606e-02,  -1.92173943e-01,\n",
       "        -1.58207208e-01,   3.52120958e-04,  -1.27444614e-03,\n",
       "        -4.30267584e-03,   5.22160158e-02,   1.24703936e-01,\n",
       "         2.07829073e-01,   2.73909211e-01,   8.98892805e-03,\n",
       "         3.20999708e-04,  -2.88923271e-04,  -4.94547188e-04,\n",
       "        -6.10744755e-05,   1.04371400e-04,   3.42396990e-04,\n",
       "        -7.37984374e-05,   2.46044568e-04,  -7.84349453e-04,\n",
       "         2.47947406e-03,   6.42884616e-03,   6.49851188e-03,\n",
       "         7.69064389e-03,   9.15287156e-03,   5.68109704e-03,\n",
       "        -1.04218209e-03,  -2.65537575e-03,  -2.58220464e-01,\n",
       "        -3.62404764e-01,  -3.37512642e-01,  -8.36675391e-02,\n",
       "        -3.01723881e-03,  -2.53694458e-03,  -1.29616586e-03,\n",
       "         8.33261684e-02,   2.90682584e-01,   3.30322355e-01,\n",
       "         8.48490279e-03,   1.09942048e-05,  -8.05331219e-05,\n",
       "         3.88658838e-04,  -1.56370224e-05,  -3.29109957e-04,\n",
       "         2.69960728e-05,  -4.94197826e-04,  -1.56766083e-03,\n",
       "        -1.29185175e-03,   7.03077856e-03,   1.54530024e-02,\n",
       "         1.46329049e-02,   1.33009255e-02,   8.48187357e-02,\n",
       "         1.12323300e-03,  -4.10198793e-03,  -1.42905295e-01,\n",
       "        -3.45910728e-01,  -4.11475033e-01,  -3.72567415e-01,\n",
       "        -1.79035604e-01,  -1.23317819e-02,  -7.97880813e-03,\n",
       "         3.80976126e-04,   5.60819209e-02,   2.84166276e-01,\n",
       "         3.13584000e-01,   1.30689759e-02,   4.63967444e-05,\n",
       "         4.41666605e-04,  -3.37437959e-04,   4.62751428e-04,\n",
       "         2.95963197e-04,   4.85231983e-04,   4.42575605e-04,\n",
       "        -2.72460934e-03,  -1.33103877e-03,   4.10785824e-02,\n",
       "         1.19652949e-01,   7.44787604e-02,   1.25495940e-01,\n",
       "         8.38253126e-02,   3.29250749e-03,  -6.82375673e-03,\n",
       "        -2.13333488e-01,  -4.01777714e-01,  -4.32558626e-01,\n",
       "        -4.03170079e-01,  -1.38299018e-01,  -1.62692126e-02,\n",
       "        -2.72297231e-03,   2.81586358e-03,   7.61033744e-02,\n",
       "         1.98090106e-01,   2.33886972e-01,   1.37708820e-02,\n",
       "         2.28849851e-04,   3.02298635e-04,   3.34303273e-04,\n",
       "        -2.58696964e-05,  -1.71730295e-04,  -3.91586742e-04,\n",
       "        -9.72108217e-04,  -2.54165498e-03,   6.39514718e-03,\n",
       "         1.29200384e-01,   1.86477423e-01,   1.32325977e-01,\n",
       "         1.89623028e-01,   7.81600028e-02,   1.58278178e-03,\n",
       "        -3.33564542e-02,  -3.69889319e-01,  -4.76711035e-01,\n",
       "        -4.35986638e-01,  -3.15161347e-01,  -9.00696218e-02,\n",
       "        -1.36878220e-02,   3.32258758e-03,   8.24570656e-03,\n",
       "         3.02393045e-02,   1.21752605e-01,   1.12131171e-01,\n",
       "         6.39038067e-03,   6.04847155e-05,  -2.51203892e-05,\n",
       "        -1.06321473e-04,  -2.45789997e-05,  -1.33234862e-04,\n",
       "        -3.54053744e-04,  -1.12528587e-03,  -1.38408772e-03,\n",
       "         1.04363300e-01,   2.26642951e-01,   1.47898123e-01,\n",
       "         1.61364734e-01,   1.71455920e-01,   6.55254256e-03,\n",
       "        -8.27395765e-04,  -1.21017233e-01,  -4.08015758e-01,\n",
       "        -4.33360845e-01,  -3.80342990e-01,  -1.99522182e-01,\n",
       "        -1.64936893e-02,   1.60021940e-03,   8.35465267e-03,\n",
       "         1.66349858e-02,   2.74355542e-02,   2.14387495e-02,\n",
       "         1.32005932e-02,  -4.78419766e-04,  -1.03291211e-04,\n",
       "        -4.76288842e-05,   2.54528713e-05,   0.00000000e+00,\n",
       "        -7.67617021e-05,  -9.13908880e-05,  -8.31972575e-04,\n",
       "         7.14516325e-04,   1.21690407e-01,   2.47495234e-01,\n",
       "         1.41397625e-01,   9.93890762e-02,   1.66328728e-01,\n",
       "         2.82097291e-02,  -3.39910411e-03,  -7.14822114e-02,\n",
       "        -3.85501057e-01,  -4.34419662e-01,  -2.60278314e-01,\n",
       "        -2.93443874e-02,   6.42777886e-04,   9.41439811e-03,\n",
       "         1.17046926e-02,   1.92346144e-02,   1.04122739e-02,\n",
       "         1.25435162e-02,   3.52829508e-03,  -1.51778513e-05,\n",
       "        -4.43909725e-04,   1.79632858e-04,   7.90192280e-05,\n",
       "         4.44597856e-04,   4.54160268e-04,   3.20038060e-04,\n",
       "        -5.66949602e-04,   2.51895608e-03,   5.95178343e-02,\n",
       "         1.89380020e-01,   1.18839040e-01,   1.18595459e-01,\n",
       "         1.52114689e-01,   7.79434890e-02,  -3.83259542e-03,\n",
       "        -3.57565284e-03,  -2.07695246e-01,  -2.13532880e-01,\n",
       "        -1.70346033e-02,  -8.98004044e-04,   6.04372285e-03,\n",
       "         1.39923561e-02,   2.54572220e-02,   9.72294435e-03,\n",
       "         6.90143229e-03,   4.83765500e-03,   3.71114817e-04,\n",
       "        -4.31702123e-04,  -8.87059723e-05,  -5.40714245e-06,\n",
       "        -4.94102656e-04,   4.86556382e-04,  -1.22960249e-04,\n",
       "         1.73046254e-04,  -1.80323783e-04,   1.00962073e-03,\n",
       "         1.47220753e-02,   1.61129147e-01,   1.06724083e-01,\n",
       "         9.40568894e-02,   1.60688460e-01,   1.77611783e-01,\n",
       "         1.61456689e-03,  -5.66736911e-04,  -4.76397108e-03,\n",
       "        -8.48717056e-03,   7.60499481e-03,   1.14803752e-02,\n",
       "         2.58437414e-02,   2.94720288e-02,   8.56164657e-03,\n",
       "         1.87491847e-03,   6.94512448e-04,   1.57447066e-04,\n",
       "        -4.57349233e-06,  -3.19314015e-04,   3.49948852e-04,\n",
       "        -2.51326390e-04,  -4.38204792e-04,   0.00000000e+00,\n",
       "        -4.40260628e-04,  -1.33105874e-04,  -2.51324731e-04,\n",
       "         2.69504637e-03,   1.74442995e-02,   8.37002173e-02,\n",
       "         7.80590996e-02,   3.85789201e-02,   1.10183030e-01,\n",
       "         2.25739002e-01,   1.61724702e-01,   9.84863564e-03,\n",
       "         7.75517430e-03,   6.65935734e-03,   1.55129386e-02,\n",
       "         3.55484709e-02,   1.58968754e-02,   3.80808883e-03,\n",
       "         1.79028185e-03,  -7.36637739e-05,  -9.83245787e-04,\n",
       "        -9.89851193e-04,   1.49119180e-04,  -5.25928685e-04,\n",
       "        -7.23253470e-06,  -1.07716478e-04,   4.71949403e-04,\n",
       "         4.90135688e-04,   3.65048065e-04,  -3.81779100e-05,\n",
       "         4.29516949e-04,  -1.78217510e-04,   1.31048271e-02,\n",
       "         2.00655088e-02,   2.35814340e-02,   1.13773225e-02,\n",
       "         4.80396859e-02,   1.73771650e-01,   2.21987382e-01,\n",
       "         5.43690287e-02,   6.51275087e-03,   1.30550470e-02,\n",
       "         2.05890164e-02,   1.37199154e-02,   3.23893293e-03,\n",
       "        -8.55922699e-04,  -1.18243846e-03,  -3.75275151e-04,\n",
       "        -6.93093811e-04,  -2.81616405e-04,  -2.59479042e-04,\n",
       "        -2.14367872e-04,   1.00275996e-04,  -3.69225687e-04,\n",
       "        -4.80413728e-04,   4.90136154e-04,   4.70821629e-04,\n",
       "         1.35344162e-04,   4.40888398e-04,   1.57772738e-03,\n",
       "         2.97802896e-03,   9.46706720e-03,   1.67843830e-02,\n",
       "         6.21901564e-02,   9.03770402e-02,   1.49889067e-01,\n",
       "         2.40663022e-01,   2.19636932e-01,   2.17447773e-01,\n",
       "         8.57344046e-02,   9.06766392e-03,   1.03164639e-03,\n",
       "        -4.57097031e-03,  -4.38861735e-03,  -2.30026967e-03,\n",
       "        -3.32498178e-03,  -4.03700658e-04,  -2.47586810e-04,\n",
       "         2.31206184e-04,   2.38248555e-04,   4.74960805e-04,\n",
       "         8.26366013e-05,  -4.71034611e-04,   0.00000000e+00,\n",
       "         0.00000000e+00,   3.43213964e-04,  -6.43678359e-05,\n",
       "         1.46642979e-03,   2.34998623e-03,   3.73650040e-03,\n",
       "         5.37027745e-03,   9.24336165e-03,   6.44168025e-03,\n",
       "         7.77382627e-02,   1.50112763e-01,   1.87739193e-01,\n",
       "         1.34561464e-01,   2.28684787e-02,   5.90232946e-03,\n",
       "        -1.06376351e-03,  -1.67320576e-03,  -1.95482606e-03,\n",
       "        -1.61583489e-03,   1.40281889e-04,   1.05260842e-04,\n",
       "        -4.39037278e-04,   2.87862349e-04,   3.48020636e-04,\n",
       "        -1.18098687e-05,   4.55083675e-04,   0.00000000e+00,\n",
       "         0.00000000e+00,   0.00000000e+00,  -1.29054475e-04,\n",
       "        -4.77643072e-04,   3.75682139e-04,   6.62341248e-04,\n",
       "         2.06496590e-03,   8.67760973e-04,   1.58973434e-03,\n",
       "         1.65228441e-03,   4.35894728e-03,   8.94149113e-03,\n",
       "         9.81390849e-03,   3.03991558e-03,   1.64114218e-03,\n",
       "         1.01718190e-03,   3.00564861e-04,   4.25450387e-04,\n",
       "        -1.12424896e-05,   1.64774945e-04,  -9.26335924e-05,\n",
       "         5.94574667e-05,  -4.61854943e-04,  -2.37869332e-04,\n",
       "         2.34279665e-04,  -4.75364999e-04,  -2.41266098e-05,\n",
       "         0.00000000e+00,   0.00000000e+00,   0.00000000e+00,\n",
       "         4.74076835e-04,  -1.66157173e-04,   2.89962714e-04,\n",
       "         1.88178761e-04,  -1.22534635e-04,   4.50604275e-04,\n",
       "        -4.22965968e-05,   5.45669172e-05,   1.90880557e-04,\n",
       "        -1.08278939e-03,  -1.85203366e-03,  -8.26150761e-04,\n",
       "        -6.02182990e-05,   4.56205453e-06,   3.04147543e-05,\n",
       "        -6.27265836e-05,   3.71834612e-04,  -7.66976736e-05,\n",
       "         4.49158164e-04,   1.86397519e-04,  -5.77768660e-05,\n",
       "        -3.31797230e-04,   7.04197155e-05,   4.78041824e-04,\n",
       "         4.82337782e-04,   0.00000000e+00,   0.00000000e+00,\n",
       "         0.00000000e+00,   0.00000000e+00,   0.00000000e+00,\n",
       "         4.48505278e-04,   2.78179068e-05,  -4.51714994e-04,\n",
       "        -1.92529813e-04,   3.81932972e-04,   1.60960655e-04,\n",
       "        -3.11989570e-04,  -3.07517650e-04,  -5.29117184e-04,\n",
       "        -5.77222439e-04,  -2.14498170e-04,   2.83374975e-04,\n",
       "        -1.83276890e-04,  -3.35394987e-04,   9.29145608e-06,\n",
       "         9.55636497e-05,   4.09493921e-04,   1.24445563e-04,\n",
       "         2.18157074e-05,   3.53230484e-04,  -5.17948356e-05,\n",
       "        -1.61628705e-05,   0.00000000e+00,   0.00000000e+00,\n",
       "         0.00000000e+00,   0.00000000e+00,   0.00000000e+00,\n",
       "         0.00000000e+00,  -3.56999226e-05,   2.03592557e-04,\n",
       "         4.69428371e-04,   3.96197196e-04,   2.38021283e-04,\n",
       "         2.29600089e-04,   3.58689605e-04,   7.24545680e-06,\n",
       "        -4.16464201e-04,  -2.46018317e-04,   3.44370492e-04,\n",
       "         2.22473172e-05,  -1.35166163e-04,  -1.89400598e-04,\n",
       "         3.34458135e-04,  -2.28689983e-04,  -1.49829430e-05,\n",
       "        -4.16933559e-04,   1.96439854e-04,   2.37148459e-04,\n",
       "         0.00000000e+00,   0.00000000e+00,   0.00000000e+00,\n",
       "         0.00000000e+00], dtype=float32)"
      ]
     },
     "execution_count": 79,
     "metadata": {},
     "output_type": "execute_result"
    }
   ],
   "source": [
    "for j in range(10):\n",
    "    for i in range(784):\n",
    "        image[(i//28)][(i%28)] = weights[:, j][i]\n",
    "    plt.imshow(image1, cmap='hot')\n",
    "    plt.colorbar()"
   ]
  },
  {
   "cell_type": "markdown",
   "metadata": {},
   "source": [
    "### 2. Universal approximation theorem\n",
    "\n",
    "What if we add more layers to our model? Namely, we train two matrix $W_2$ and $W_1$\n",
    "$$softmax(W_2\\cdot(W_1x)).$$\n",
    "\n",
    "At first glance adding more parameters helps to increase the generalizing ability of the model. Buy actually we have the same model $softmax(Wx)$, where $W = W_2\\cdot W_1$. But everyting changes with adding ome more layer. Let's add nonlinear function $\\sigma$ between $W_2$ and $W_1$\n",
    "\n",
    "$$softmax(W_2\\cdot \\sigma(W_1x)).$$\n",
    "\n",
    "Kurt Hornik showed in 1991 that it is not the specific choice of the nonlinear function, but rather the multilayer feedforward architecture itself which gives neural networks the potential of being universal approximators. The output units are always assumed to be linear. For notational convenience, only the single output case will be shown. The general case can easily be deduced from the single output case.\n",
    "\n",
    "Let $\\sigma(\\cdot)$ be a nonconstant, bounded, and monotonically-increasing continuous function.\n",
    "Let $\\mathcal{S}_m \\subset \\mathbb{R}^m$ denote any compact set. \n",
    "Then, given any $\\varepsilon > 0$ and any coninuous function $f$ on $\\mathcal{S}_m$, there exist an integer $N$ and real constants $v_i$, $b_i$ amd real vectors $w_i$ that\n",
    "\n",
    "$$\\left| \\sum _{i=1}^{N}v_{i}\\sigma \\left( w_i^{T} x+b_i \\right) - f(x) \\right| < \\varepsilon, ~~~ \\forall x \\in \\mathcal{S}_m.$$\n",
    "\n",
    "The theorem has non-constructive proof, it meams that no estimates for $N$ and no method to find approximation's parameters.\n",
    "\n",
    "#### Exercises\n",
    "1. Let $\\sigma$ – [heaviside step function](https://en.wikipedia.org/wiki/Heaviside_step_function) and $x \\in \\{0, 1\\}^2$. Prove that $y = \\sigma(wx + b)$ can approximate boolean function **OR** (hint: use constructive proof).\n",
    "2. What about **AND** function?\n",
    "3. Is it possible to implement **XOR**? Prove your words.\n",
    "4. Prove that 2-layer network can implement any boolean function.\n",
    "\n",
    "#### More useful facts:\n",
    "1. A 2-layer network in in $\\mathbb{R}^n$ allows to define convex polyhedron..\n",
    "2. A 3-layer network in в $\\mathbb{R}^n$ allows to define a not necessarily convex and not even necessarily connected area."
   ]
  },
  {
   "cell_type": "markdown",
   "metadata": {},
   "source": [
    "### 3. Backpropagation\n",
    "Backpropagation is a method used to calculate the error contribution of each layer after a batch of data. It is a special case of an older and more general technique called automatic differentiation. In the context of learning, backpropagation is commonly used by the gradient descent optimization algorithm to adjust the weight of layers by calculating the gradient of the loss function. This technique is also sometimes called backward propagation of errors, because the error is calculated at the output and distributed back through the network layers. The main motivation of method is simplify evaluation of gradient which is complex problem for multilayer nets.\n",
    "\n",
    "We need the following notation. Let $(y^1,\\dots,y^n) = f(x^1,\\dots,x^n)$ is some differentiable function and $\\frac{dy}{dx}$ is matrix\n",
    "$$\\frac{dy}{dx} = \\Big[ J_{ij} = \\frac{\\partial y^i}{\\partial x^j} \\Big]$$\n",
    "\n",
    "Without violating the generality, we can assume that each layer is a function $x_{i} = f(x_{i-1}, w_i)$. As last layer we add loss function, so we can assume our multi-layer net as function $Q(x_0) = Q(f_n(f_{n-1}(\\dots, w_{n-1}), w_n))$.\n",
    "\n",
    "#### Forward step\n",
    "Propagation forward through the network to generate the output values. Calculation of the loss function.\n",
    "\n",
    "#### Backward step\n",
    "Let's look at last layer. We can simply find $\\frac{dQ}{dx_n}$. Now we can evaluate \n",
    "\n",
    "$$\\frac{dQ}{dw_n} = \\frac{dQ}{dx_n}\\frac{dx_n}{dw_n} \\text{ and } \\frac{dQ}{dx_{n-1}} = \\frac{dQ}{dx_n}\\frac{dx_n}{dx_{n-1}}$$\n",
    "\n",
    "Now we need calculate $\\frac{dQ}{dw_{n-2}}$ и $\\frac{dQ}{dx_{n-2}}$. But we have the same situation. We know $\\frac{dQ}{dx_k}$, so can evaluate $\\frac{dQ}{dw_k}$ and $\\frac{dQ}{dx_{k-1}}$. Repeating this operation we find all the gradients. Now it's only remains to make a gradient step to update weights.\n",
    "\n",
    "#### Exercises\n",
    "1. Read more about [vanishing gradient](https://en.wikipedia.org/wiki/Vanishing_gradient_problem).\n",
    "2. Train 2 layer net. Use sigmoid as nonlinearity.\n",
    "3. Check accuracy on validation set.\n",
    "4. Use [ReLu](https://en.wikipedia.org/wiki/Rectifier_(neural_networks) or LeakyReLu as nonlinearity. Compare accuracy and convergence with previous model.\n",
    "5. Play with different architectures (add more layers, regularization and etc).\n",
    "6. Show your best model.\n",
    "7. How does quality change with adding layers. Prove your words, train model for 2, 3, 5, 7 and 10 layers.\n",
    "8. Using backpropagation find optimal  digit 8 for your net.*"
   ]
  },
  {
   "cell_type": "markdown",
   "metadata": {},
   "source": [
    "### 4. Autoencoders\n",
    "An autoencoder is an network used for unsupervised learning of efficient codings. The aim of an autoencoder is to learn a representation (encoding) for a set of data, typically for the purpose of dimensionality reduction. Also, this technique can be used to train deep nets.\n",
    "\n",
    "Architecturally, the simplest form of an autoencoder is a feedforward net very similar to the multilayer perceptron (MLP), but with the output layer having the same number of nodes as the input layer, and with the purpose of reconstructing its own inputs. Therefore, autoencoders are unsupervised learning models. An autoencoder always consists of two parts, the encoder and the decoder. Encoder returns latent representation of the object (compressed representation, usuallu smaller dimension), but decoder restores object from this latent representation. Autoencoders are also trained to minimise reconstruction errors (e.g. MSE).\n",
    "\n",
    "Various techniques exist to prevent autoencoders from learning the identity and to improve their ability to capture important information:\n",
    "1. Denoising autoencoder - take a partially corrupted input.\n",
    "2. Sparse autoencoder - impose sparsity on the hidden units during training (whilst having a larger number of hidden units than inputs).\n",
    "3. Variational autoencoder models inherit autoencoder architecture, but make strong assumptions concerning the distribution of latent variables.\n",
    "4. Contractive autoencoder - add an explicit regularizer in objective function that forces the model to learn a function that is robust to slight variations of input values.\n",
    "\n",
    "#### Exercises\n",
    "1. Train 2 layers autoencoder that compressed mnist images to $\\mathbb{R}^3$ space.\n",
    "2. For each digit plot several samples in 3D axis (use \"%matplotlib notebook\" mode or plotly). How do digits group?\n",
    "3. Train autoencoder with more layers. What are results?\n",
    "4. Use autoencoder to pretrain 2 layers (unsupervised) and then train the following layers with supervised method."
   ]
  }
 ],
 "metadata": {
  "kernelspec": {
   "display_name": "Python 3",
   "language": "python",
   "name": "python3"
  },
  "language_info": {
   "codemirror_mode": {
    "name": "ipython",
    "version": 3
   },
   "file_extension": ".py",
   "mimetype": "text/x-python",
   "name": "python",
   "nbconvert_exporter": "python",
   "pygments_lexer": "ipython3",
   "version": "3.6.1"
  }
 },
 "nbformat": 4,
 "nbformat_minor": 1
}
