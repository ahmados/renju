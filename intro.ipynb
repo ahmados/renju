{
 "cells": [
  {
   "cell_type": "code",
   "execution_count": 9,
   "metadata": {},
   "outputs": [],
   "source": [
    "%matplotlib inline\n",
    "import matplotlib.pyplot as plt"
   ]
  },
  {
   "cell_type": "code",
   "execution_count": 10,
   "metadata": {},
   "outputs": [],
   "source": [
    "import scipy.misc\n",
    "# scipy.misc.imsave('outfile.jpg', image_array)"
   ]
  },
  {
   "cell_type": "code",
   "execution_count": 34,
   "metadata": {},
   "outputs": [],
   "source": [
    "import pandas as pd\n",
    "import numpy as np\n",
    "import os\n",
    "import scipy\n",
    "import imageio"
   ]
  },
  {
   "cell_type": "code",
   "execution_count": 12,
   "metadata": {},
   "outputs": [],
   "source": [
    "import pickle"
   ]
  },
  {
   "cell_type": "code",
   "execution_count": 13,
   "metadata": {},
   "outputs": [
    {
     "name": "stdout",
     "output_type": "stream",
     "text": [
      "\u001b[34m0\u001b[m\u001b[m/                           lab-4.ipynb\r\n",
      "32.png                       labMax.ipynb\r\n",
      "38.png                       \u001b[34mplay_0\u001b[m\u001b[m/\r\n",
      "ReinforcementLearning.ipynb  \u001b[34mplays\u001b[m\u001b[m/\r\n",
      "blkwht.png                   prediction.csv\r\n",
      "bookdraft2018jan1.pdf        \u001b[34mrenju\u001b[m\u001b[m/\r\n",
      "intro.ipynb                  tinkoff_math.ipynb\r\n",
      "lab-1.ipynb                  train-1.renju\r\n",
      "lab-3.ipynb                  train-2.renju\r\n"
     ]
    }
   ],
   "source": [
    "ls"
   ]
  },
  {
   "cell_type": "code",
   "execution_count": 14,
   "metadata": {},
   "outputs": [],
   "source": [
    "f=open(\"/Users/ahmad/Desktop/Renju/train-1.renju\", \"r\")"
   ]
  },
  {
   "cell_type": "code",
   "execution_count": 15,
   "metadata": {},
   "outputs": [
    {
     "name": "stdout",
     "output_type": "stream",
     "text": [
      "0\n",
      "100000\n",
      "200000\n",
      "300000\n",
      "400000\n",
      "500000\n",
      "600000\n",
      "700000\n",
      "800000\n",
      "900000\n",
      "1000000\n",
      "1100000\n",
      "1200000\n",
      "1300000\n",
      "1400000\n",
      "1500000\n",
      "1600000\n",
      "1700000\n",
      "1800000\n",
      "1900000\n"
     ]
    }
   ],
   "source": [
    "data = []\n",
    "i = 0\n",
    "for line in f.readlines():\n",
    "    if (not(i % 100000)):\n",
    "        print(i)\n",
    "    i += 1\n",
    "    parsed = line.split(' ')\n",
    "    data.append(parsed)"
   ]
  },
  {
   "cell_type": "code",
   "execution_count": 16,
   "metadata": {},
   "outputs": [],
   "source": [
    "def motiontonumber(motion):\n",
    "    letter = ord(motion[0]) - ord('a')\n",
    "    if (letter > 8):\n",
    "        return (letter * 15 - 15 + int(motion[1:]))\n",
    "    return (letter * 15 + int(motion[1:]))"
   ]
  },
  {
   "cell_type": "code",
   "execution_count": null,
   "metadata": {},
   "outputs": [],
   "source": [
    "data"
   ]
  },
  {
   "cell_type": "code",
   "execution_count": 17,
   "metadata": {},
   "outputs": [],
   "source": [
    "def convert(data):\n",
    "    newdata = []\n",
    "    for play in data:\n",
    "        i = 0\n",
    "        sz = len(play)\n",
    "        newplay = []\n",
    "        if (play[0] == \"white\"):\n",
    "            newplay.append(0)\n",
    "        elif (play[0] == \"black\"):\n",
    "            newplay.append(1)\n",
    "        else:\n",
    "            continue\n",
    "        for i in range(1, sz):\n",
    "            newplay.append(motiontonumber(play[i]))\n",
    "        newdata.append(newplay)\n",
    "    return newdata"
   ]
  },
  {
   "cell_type": "code",
   "execution_count": 18,
   "metadata": {},
   "outputs": [],
   "source": [
    "newdata = convert(data)"
   ]
  },
  {
   "cell_type": "code",
   "execution_count": 19,
   "metadata": {},
   "outputs": [],
   "source": [
    "import pickle"
   ]
  },
  {
   "cell_type": "code",
   "execution_count": 21,
   "metadata": {},
   "outputs": [],
   "source": [
    "with open(\"newdata.txt\", \"wb\") as fp:   #Pickling\n",
    "    pickle.dump(newdata, fp)"
   ]
  },
  {
   "cell_type": "code",
   "execution_count": 22,
   "metadata": {},
   "outputs": [],
   "source": [
    "X_train = np.zeros((200000, 15, 15, 1))\n",
    "Y_train = np.zeros(200000)\n",
    "t = 0"
   ]
  },
  {
   "cell_type": "code",
   "execution_count": 31,
   "metadata": {},
   "outputs": [],
   "source": [
    "# plt.imshow(g, cmap='Greys',  interpolation='nearest')\n",
    "def createImagesFromPlay(newdata, k, folder, t):\n",
    "    i = 0\n",
    "    fname = folder + '/' + str(i) + '.png'\n",
    "    initial = np.ones((15, 15))\n",
    "    for move in newdata[k]:\n",
    "        if (i == 0):\n",
    "            i += 1\n",
    "            continue\n",
    "        fname = folder + '/' + str(i - 1) + '.png'\n",
    "        if (t < 200000):\n",
    "            reshaped = np.zeros((15, 15, 1))\n",
    "            reshaped[:, :, 0] = initial[:, :]\n",
    "            X_train[t] = reshaped\n",
    "            Y_train[t] = move\n",
    "            t += 1\n",
    "        initial[move // 15][move % 15] = 0 + 0.5 * (i % 2)\n",
    "        imageio.imsave(fname, initial)\n",
    "    return t"
   ]
  },
  {
   "cell_type": "code",
   "execution_count": 32,
   "metadata": {},
   "outputs": [],
   "source": [
    "def createAllImages(newdata, t):\n",
    "    for i in range(12000):\n",
    "        folder = str(i)\n",
    "        if (not(i % 100)):\n",
    "            print(str(i / 100), \" PERCENT IS DONE \")\n",
    "        if not os.path.exists('/Users/ahmad/Desktop/Renju/plays/' + folder):\n",
    "            os.makedirs('/Users/ahmad/Desktop/Renju/plays/' + folder)\n",
    "        t = createImagesFromPlay(newdata, i, ('/Users/ahmad/Desktop/Renju/plays/' + folder), t)"
   ]
  },
  {
   "cell_type": "code",
   "execution_count": 33,
   "metadata": {
    "scrolled": true
   },
   "outputs": [
    {
     "name": "stdout",
     "output_type": "stream",
     "text": [
      "0.0  PERCENT IS DONE \n"
     ]
    },
    {
     "ename": "NameError",
     "evalue": "name 'imageio' is not defined",
     "output_type": "error",
     "traceback": [
      "\u001b[0;31m---------------------------------------------------------------------------\u001b[0m",
      "\u001b[0;31mNameError\u001b[0m                                 Traceback (most recent call last)",
      "\u001b[0;32m<ipython-input-33-11b8b24f4feb>\u001b[0m in \u001b[0;36m<module>\u001b[0;34m()\u001b[0m\n\u001b[0;32m----> 1\u001b[0;31m \u001b[0mcreateAllImages\u001b[0m\u001b[0;34m(\u001b[0m\u001b[0mnewdata\u001b[0m\u001b[0;34m,\u001b[0m \u001b[0;36m0\u001b[0m\u001b[0;34m)\u001b[0m\u001b[0;34m\u001b[0m\u001b[0m\n\u001b[0m",
      "\u001b[0;32m<ipython-input-32-30221ec5e16b>\u001b[0m in \u001b[0;36mcreateAllImages\u001b[0;34m(newdata, t)\u001b[0m\n\u001b[1;32m      6\u001b[0m         \u001b[0;32mif\u001b[0m \u001b[0;32mnot\u001b[0m \u001b[0mos\u001b[0m\u001b[0;34m.\u001b[0m\u001b[0mpath\u001b[0m\u001b[0;34m.\u001b[0m\u001b[0mexists\u001b[0m\u001b[0;34m(\u001b[0m\u001b[0;34m'/Users/ahmad/Desktop/Renju/plays/'\u001b[0m \u001b[0;34m+\u001b[0m \u001b[0mfolder\u001b[0m\u001b[0;34m)\u001b[0m\u001b[0;34m:\u001b[0m\u001b[0;34m\u001b[0m\u001b[0m\n\u001b[1;32m      7\u001b[0m             \u001b[0mos\u001b[0m\u001b[0;34m.\u001b[0m\u001b[0mmakedirs\u001b[0m\u001b[0;34m(\u001b[0m\u001b[0;34m'/Users/ahmad/Desktop/Renju/plays/'\u001b[0m \u001b[0;34m+\u001b[0m \u001b[0mfolder\u001b[0m\u001b[0;34m)\u001b[0m\u001b[0;34m\u001b[0m\u001b[0m\n\u001b[0;32m----> 8\u001b[0;31m         \u001b[0mt\u001b[0m \u001b[0;34m=\u001b[0m \u001b[0mcreateImagesFromPlay\u001b[0m\u001b[0;34m(\u001b[0m\u001b[0mnewdata\u001b[0m\u001b[0;34m,\u001b[0m \u001b[0mi\u001b[0m\u001b[0;34m,\u001b[0m \u001b[0;34m(\u001b[0m\u001b[0;34m'/Users/ahmad/Desktop/Renju/plays/'\u001b[0m \u001b[0;34m+\u001b[0m \u001b[0mfolder\u001b[0m\u001b[0;34m)\u001b[0m\u001b[0;34m,\u001b[0m \u001b[0mt\u001b[0m\u001b[0;34m)\u001b[0m\u001b[0;34m\u001b[0m\u001b[0m\n\u001b[0m",
      "\u001b[0;32m<ipython-input-31-f44dd80f6bcc>\u001b[0m in \u001b[0;36mcreateImagesFromPlay\u001b[0;34m(newdata, k, folder, t)\u001b[0m\n\u001b[1;32m     16\u001b[0m             \u001b[0mt\u001b[0m \u001b[0;34m+=\u001b[0m \u001b[0;36m1\u001b[0m\u001b[0;34m\u001b[0m\u001b[0m\n\u001b[1;32m     17\u001b[0m         \u001b[0minitial\u001b[0m\u001b[0;34m[\u001b[0m\u001b[0mmove\u001b[0m \u001b[0;34m//\u001b[0m \u001b[0;36m15\u001b[0m\u001b[0;34m]\u001b[0m\u001b[0;34m[\u001b[0m\u001b[0mmove\u001b[0m \u001b[0;34m%\u001b[0m \u001b[0;36m15\u001b[0m\u001b[0;34m]\u001b[0m \u001b[0;34m=\u001b[0m \u001b[0;36m0\u001b[0m \u001b[0;34m+\u001b[0m \u001b[0;36m0.5\u001b[0m \u001b[0;34m*\u001b[0m \u001b[0;34m(\u001b[0m\u001b[0mi\u001b[0m \u001b[0;34m%\u001b[0m \u001b[0;36m2\u001b[0m\u001b[0;34m)\u001b[0m\u001b[0;34m\u001b[0m\u001b[0m\n\u001b[0;32m---> 18\u001b[0;31m         \u001b[0mimageio\u001b[0m\u001b[0;34m.\u001b[0m\u001b[0mimsave\u001b[0m\u001b[0;34m(\u001b[0m\u001b[0mfname\u001b[0m\u001b[0;34m,\u001b[0m \u001b[0minitial\u001b[0m\u001b[0;34m)\u001b[0m\u001b[0;34m\u001b[0m\u001b[0m\n\u001b[0m\u001b[1;32m     19\u001b[0m     \u001b[0;32mreturn\u001b[0m \u001b[0mt\u001b[0m\u001b[0;34m\u001b[0m\u001b[0m\n",
      "\u001b[0;31mNameError\u001b[0m: name 'imageio' is not defined"
     ]
    }
   ],
   "source": [
    "createAllImages(newdata, 0)"
   ]
  },
  {
   "cell_type": "markdown",
   "metadata": {},
   "source": [
    " If image N in folder M, then the next move is data[M][N] (because data[M][0] is a winner of the round and numeration of images starts from 1)"
   ]
  },
  {
   "cell_type": "code",
   "execution_count": null,
   "metadata": {},
   "outputs": [],
   "source": []
  },
  {
   "cell_type": "code",
   "execution_count": null,
   "metadata": {},
   "outputs": [],
   "source": [
    "import keras\n",
    "from keras.models import Sequential\n",
    "from keras.layers import Dense, Dropout, Flatten\n",
    "from keras.layers import Conv2D, MaxPooling2D, LeakyReLU, Activation\n",
    "from keras.layers.normalization import BatchNormalization\n",
    "from keras.optimizers import SGD\n",
    "\n",
    "# Generate dummy data\n",
    "\n",
    "model = Sequential()\n",
    "model.add(Conv2D(16, (2, 2), padding='same',\n",
    "                 input_shape=(15, 15, 1)))\n",
    "model.add(LeakyReLU())\n",
    "model.add(Conv2D(16, (2, 2)))\n",
    "model.add(LeakyReLU())\n",
    "model.add(BatchNormalization(axis=3))\n",
    "\n",
    "model.add(Conv2D(32, (2, 2), padding='same'))\n",
    "model.add(LeakyReLU())\n",
    "model.add(Conv2D(32, (2, 2)))\n",
    "model.add(LeakyReLU())\n",
    "model.add(MaxPooling2D(pool_size=(2, 2)))\n",
    "model.add(BatchNormalization(axis=3))\n",
    "\n",
    "model.add(Flatten())\n",
    "model.add(Dense(600))\n",
    "model.add(LeakyReLU())\n",
    "model.add(Dropout(0.3))\n",
    "model.add(Dense(225))\n",
    "model.add(Activation('softmax'))\n",
    "\n",
    "# initiate RMSprop optimizer\n",
    "model.compile(loss='categorical_crossentropy', optimizer = 'adam', metrics=['accuracy'])\n",
    "model.summary()\n"
   ]
  },
  {
   "cell_type": "code",
   "execution_count": null,
   "metadata": {},
   "outputs": [],
   "source": []
  }
 ],
 "metadata": {
  "kernelspec": {
   "display_name": "Python 3",
   "language": "python",
   "name": "python3"
  },
  "language_info": {
   "codemirror_mode": {
    "name": "ipython",
    "version": 3
   },
   "file_extension": ".py",
   "mimetype": "text/x-python",
   "name": "python",
   "nbconvert_exporter": "python",
   "pygments_lexer": "ipython3",
   "version": "3.6.2"
  }
 },
 "nbformat": 4,
 "nbformat_minor": 2
}
