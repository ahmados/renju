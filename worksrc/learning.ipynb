{
 "cells": [
  {
   "cell_type": "code",
   "execution_count": 1,
   "metadata": {},
   "outputs": [],
   "source": [
    "%matplotlib inline\n",
    "import matplotlib.pyplot as plt\n",
    "\n",
    "import scipy.misc\n",
    "# scipy.misc.imsave('outfile.jpg', image_array)\n",
    "\n",
    "import numpy as np\n",
    "import os\n",
    "import scipy\n",
    "import imageio\n",
    "\n",
    "import pickle"
   ]
  },
  {
   "cell_type": "code",
   "execution_count": 6,
   "metadata": {},
   "outputs": [],
   "source": [
    "f=open('train-1.renju', \"r\")\n",
    "\n",
    "data = []\n",
    "i = 0\n",
    "for line in f.readlines():\n",
    "    i += 1\n",
    "    parsed = line.split(' ')\n",
    "    data.append(parsed)"
   ]
  },
  {
   "cell_type": "code",
   "execution_count": 8,
   "metadata": {},
   "outputs": [],
   "source": [
    "def motiontonumber(motion):\n",
    "    letter = ord(motion[0]) - ord('a')\n",
    "    if (letter > 8):\n",
    "        return (letter * 15 - 15 + int(motion[1:]))\n",
    "    return (letter * 15 + int(motion[1:]))"
   ]
  },
  {
   "cell_type": "code",
   "execution_count": null,
   "metadata": {},
   "outputs": [],
   "source": [
    "def convert(data):\n",
    "    newdata = []\n",
    "    for play in data:\n",
    "        i = 0\n",
    "        sz = len(play)\n",
    "        newplay = []\n",
    "        if (play[0] == \"white\"):\n",
    "            newplay.append(0)\n",
    "        elif (play[0] == \"black\"):\n",
    "            newplay.append(1)\n",
    "        else:\n",
    "            continue\n",
    "        for i in range(1, sz):\n",
    "            newplay.append(motiontonumber(play[i]))\n",
    "        newdata.append(newplay)\n",
    "    return newdata"
   ]
  },
  {
   "cell_type": "code",
   "execution_count": null,
   "metadata": {},
   "outputs": [],
   "source": [
    "newdata = convert(data)"
   ]
  },
  {
   "cell_type": "code",
   "execution_count": 10,
   "metadata": {},
   "outputs": [],
   "source": [
    "# with open(\"newdata.txt\", \"wb\") as fp:   #Pickling\n",
    "#     pickle.dump(newdata, fp)\n",
    "# Unpickling:\n",
    "with open('newdata.txt', 'rb') as f:\n",
    "    mynewlist = pickle.load(f)"
   ]
  },
  {
   "cell_type": "code",
   "execution_count": 11,
   "metadata": {},
   "outputs": [],
   "source": [
    "newdata = mynewlist"
   ]
  },
  {
   "cell_type": "code",
   "execution_count": 17,
   "metadata": {},
   "outputs": [],
   "source": [
    "X_train = np.zeros((2000000, 15, 15, 1))\n",
    "Y_train = np.zeros(2000000)\n",
    "t = 0"
   ]
  },
  {
   "cell_type": "code",
   "execution_count": 19,
   "metadata": {},
   "outputs": [],
   "source": [
    "# plt.imshow(g, cmap='Greys',  interpolation='nearest')\n",
    "def createImagesFromPlay(newdata, k, folder, t):\n",
    "    i = 0\n",
    "    fname = folder + '/' + str(i) + '.png'\n",
    "    initial = np.zeros((15, 15), dtype=np.uint8)\n",
    "    for move in newdata[k]:\n",
    "        if (i == 0):\n",
    "            i += 1\n",
    "            continue\n",
    "        fname = folder + '/' + str(i - 1) + '.png'\n",
    "        if (t < 2000000):\n",
    "            reshaped = np.zeros((15, 15, 1), dtype=np.uint8)\n",
    "            reshaped[:, :, 0] = initial[:, :]\n",
    "            X_train[t] = reshaped\n",
    "            Y_train[t] = move\n",
    "            t += 1\n",
    "        initial[move // 15][move % 15] = 128 + 127*(i%2)\n",
    "        i += 1\n",
    "        imageio.imsave(fname, initial)\n",
    "    return t"
   ]
  },
  {
   "cell_type": "code",
   "execution_count": 20,
   "metadata": {},
   "outputs": [],
   "source": [
    "import warnings\n",
    "warnings.filterwarnings(action='ignore')"
   ]
  },
  {
   "cell_type": "code",
   "execution_count": 21,
   "metadata": {},
   "outputs": [],
   "source": [
    "def createAllImages(newdata, t):\n",
    "    for i in range(50000):\n",
    "        folder = str(i)\n",
    "        if (not(i % 500)):\n",
    "            print(str(i / 500), \" PERCENT IS DONE \")\n",
    "        if not os.path.exists('C:/Users/777/Desktop/Renju/plays/' + folder):\n",
    "            os.makedirs('C:/Users/777/Desktop/Renju/plays/' + folder)\n",
    "        t = createImagesFromPlay(newdata, i, ('C:/Users/777/Desktop/Renju/plays/' + folder), t)"
   ]
  },
  {
   "cell_type": "code",
   "execution_count": 22,
   "metadata": {
    "scrolled": true
   },
   "outputs": [
    {
     "name": "stdout",
     "output_type": "stream",
     "text": [
      "0.0  PERCENT IS DONE \n",
      "1.0  PERCENT IS DONE \n",
      "2.0  PERCENT IS DONE \n",
      "3.0  PERCENT IS DONE \n",
      "4.0  PERCENT IS DONE \n",
      "5.0  PERCENT IS DONE \n",
      "6.0  PERCENT IS DONE \n",
      "7.0  PERCENT IS DONE \n",
      "8.0  PERCENT IS DONE \n",
      "9.0  PERCENT IS DONE \n",
      "10.0  PERCENT IS DONE \n",
      "11.0  PERCENT IS DONE \n",
      "12.0  PERCENT IS DONE \n",
      "13.0  PERCENT IS DONE \n",
      "14.0  PERCENT IS DONE \n",
      "15.0  PERCENT IS DONE \n",
      "16.0  PERCENT IS DONE \n",
      "17.0  PERCENT IS DONE \n",
      "18.0  PERCENT IS DONE \n",
      "19.0  PERCENT IS DONE \n",
      "20.0  PERCENT IS DONE \n",
      "21.0  PERCENT IS DONE \n",
      "22.0  PERCENT IS DONE \n",
      "23.0  PERCENT IS DONE \n",
      "24.0  PERCENT IS DONE \n",
      "25.0  PERCENT IS DONE \n",
      "26.0  PERCENT IS DONE \n",
      "27.0  PERCENT IS DONE \n",
      "28.0  PERCENT IS DONE \n",
      "29.0  PERCENT IS DONE \n",
      "30.0  PERCENT IS DONE \n",
      "31.0  PERCENT IS DONE \n",
      "32.0  PERCENT IS DONE \n",
      "33.0  PERCENT IS DONE \n",
      "34.0  PERCENT IS DONE \n",
      "35.0  PERCENT IS DONE \n",
      "36.0  PERCENT IS DONE \n",
      "37.0  PERCENT IS DONE \n",
      "38.0  PERCENT IS DONE \n",
      "39.0  PERCENT IS DONE \n",
      "40.0  PERCENT IS DONE \n",
      "41.0  PERCENT IS DONE \n",
      "42.0  PERCENT IS DONE \n",
      "43.0  PERCENT IS DONE \n",
      "44.0  PERCENT IS DONE \n",
      "45.0  PERCENT IS DONE \n",
      "46.0  PERCENT IS DONE \n",
      "47.0  PERCENT IS DONE \n",
      "48.0  PERCENT IS DONE \n",
      "49.0  PERCENT IS DONE \n",
      "50.0  PERCENT IS DONE \n",
      "51.0  PERCENT IS DONE \n",
      "52.0  PERCENT IS DONE \n",
      "53.0  PERCENT IS DONE \n",
      "54.0  PERCENT IS DONE \n",
      "55.0  PERCENT IS DONE \n",
      "56.0  PERCENT IS DONE \n",
      "57.0  PERCENT IS DONE \n",
      "58.0  PERCENT IS DONE \n",
      "59.0  PERCENT IS DONE \n",
      "60.0  PERCENT IS DONE \n",
      "61.0  PERCENT IS DONE \n",
      "62.0  PERCENT IS DONE \n",
      "63.0  PERCENT IS DONE \n",
      "64.0  PERCENT IS DONE \n",
      "65.0  PERCENT IS DONE \n",
      "66.0  PERCENT IS DONE \n",
      "67.0  PERCENT IS DONE \n",
      "68.0  PERCENT IS DONE \n",
      "69.0  PERCENT IS DONE \n",
      "70.0  PERCENT IS DONE \n",
      "71.0  PERCENT IS DONE \n",
      "72.0  PERCENT IS DONE \n",
      "73.0  PERCENT IS DONE \n",
      "74.0  PERCENT IS DONE \n",
      "75.0  PERCENT IS DONE \n",
      "76.0  PERCENT IS DONE \n",
      "77.0  PERCENT IS DONE \n",
      "78.0  PERCENT IS DONE \n",
      "79.0  PERCENT IS DONE \n",
      "80.0  PERCENT IS DONE \n",
      "81.0  PERCENT IS DONE \n",
      "82.0  PERCENT IS DONE \n",
      "83.0  PERCENT IS DONE \n",
      "84.0  PERCENT IS DONE \n",
      "85.0  PERCENT IS DONE \n",
      "86.0  PERCENT IS DONE \n",
      "87.0  PERCENT IS DONE \n",
      "88.0  PERCENT IS DONE \n",
      "89.0  PERCENT IS DONE \n",
      "90.0  PERCENT IS DONE \n",
      "91.0  PERCENT IS DONE \n",
      "92.0  PERCENT IS DONE \n",
      "93.0  PERCENT IS DONE \n",
      "94.0  PERCENT IS DONE \n",
      "95.0  PERCENT IS DONE \n",
      "96.0  PERCENT IS DONE \n",
      "97.0  PERCENT IS DONE \n",
      "98.0  PERCENT IS DONE \n",
      "99.0  PERCENT IS DONE \n"
     ]
    }
   ],
   "source": [
    "createAllImages(newdata, 0)"
   ]
  },
  {
   "cell_type": "markdown",
   "metadata": {},
   "source": [
    " If image N in folder M, then the next move is data[M][N] (because data[M][0] is a winner of the round and numeration of images starts from 1)"
   ]
  },
  {
   "cell_type": "code",
   "execution_count": 23,
   "metadata": {},
   "outputs": [],
   "source": [
    "np.save('X_train.npy', X_train)\n",
    "np.save('Y_train.npy', Y_train)"
   ]
  },
  {
   "cell_type": "markdown",
   "metadata": {},
   "source": [
    "# START HERE"
   ]
  },
  {
   "cell_type": "code",
   "execution_count": 2,
   "metadata": {},
   "outputs": [],
   "source": [
    "X_train = np.load('X_train.npy')\n",
    "Y_train = np.load('Y_train.npy')"
   ]
  },
  {
   "cell_type": "code",
   "execution_count": 3,
   "metadata": {},
   "outputs": [],
   "source": [
    "Y_train_vec = np.zeros((1000000, 225))\n",
    "i = 0\n",
    "for y in Y_train[:1000000]:\n",
    "    Y_train_vec[i][int(y)] = 1\n",
    "    i += 1"
   ]
  },
  {
   "cell_type": "code",
   "execution_count": 4,
   "metadata": {},
   "outputs": [],
   "source": [
    "X_train = X_train/256"
   ]
  },
  {
   "cell_type": "code",
   "execution_count": 5,
   "metadata": {},
   "outputs": [
    {
     "name": "stderr",
     "output_type": "stream",
     "text": [
      "c:\\users\\777\\appdata\\local\\programs\\python\\python36\\lib\\site-packages\\h5py\\__init__.py:36: FutureWarning: Conversion of the second argument of issubdtype from `float` to `np.floating` is deprecated. In future, it will be treated as `np.float64 == np.dtype(float).type`.\n",
      "  from ._conv import register_converters as _register_converters\n",
      "Using TensorFlow backend.\n"
     ]
    }
   ],
   "source": [
    "import keras\n",
    "from keras.models import Sequential\n",
    "from keras.layers import Dense, Dropout, Flatten, BatchNormalization\n",
    "from keras.layers import Conv2D, MaxPooling2D, LeakyReLU, Activation\n",
    "from keras.layers.normalization import BatchNormalization\n",
    "from keras.optimizers import SGD"
   ]
  },
  {
   "cell_type": "code",
   "execution_count": 6,
   "metadata": {},
   "outputs": [
    {
     "name": "stdout",
     "output_type": "stream",
     "text": [
      "_________________________________________________________________\n",
      "Layer (type)                 Output Shape              Param #   \n",
      "=================================================================\n",
      "conv2d_1 (Conv2D)            (None, 15, 15, 32)        160       \n",
      "_________________________________________________________________\n",
      "leaky_re_lu_1 (LeakyReLU)    (None, 15, 15, 32)        0         \n",
      "_________________________________________________________________\n",
      "conv2d_2 (Conv2D)            (None, 14, 14, 64)        8256      \n",
      "_________________________________________________________________\n",
      "leaky_re_lu_2 (LeakyReLU)    (None, 14, 14, 64)        0         \n",
      "_________________________________________________________________\n",
      "batch_normalization_1 (Batch (None, 14, 14, 64)        256       \n",
      "_________________________________________________________________\n",
      "conv2d_3 (Conv2D)            (None, 14, 14, 128)       204928    \n",
      "_________________________________________________________________\n",
      "leaky_re_lu_3 (LeakyReLU)    (None, 14, 14, 128)       0         \n",
      "_________________________________________________________________\n",
      "conv2d_4 (Conv2D)            (None, 10, 10, 128)       409728    \n",
      "_________________________________________________________________\n",
      "leaky_re_lu_4 (LeakyReLU)    (None, 10, 10, 128)       0         \n",
      "_________________________________________________________________\n",
      "max_pooling2d_1 (MaxPooling2 (None, 5, 5, 128)         0         \n",
      "_________________________________________________________________\n",
      "batch_normalization_2 (Batch (None, 5, 5, 128)         512       \n",
      "_________________________________________________________________\n",
      "flatten_1 (Flatten)          (None, 3200)              0         \n",
      "_________________________________________________________________\n",
      "dense_1 (Dense)              (None, 600)               1920600   \n",
      "_________________________________________________________________\n",
      "leaky_re_lu_5 (LeakyReLU)    (None, 600)               0         \n",
      "_________________________________________________________________\n",
      "dense_2 (Dense)              (None, 225)               135225    \n",
      "_________________________________________________________________\n",
      "activation_1 (Activation)    (None, 225)               0         \n",
      "=================================================================\n",
      "Total params: 2,679,665\n",
      "Trainable params: 2,679,281\n",
      "Non-trainable params: 384\n",
      "_________________________________________________________________\n"
     ]
    }
   ],
   "source": [
    "\n",
    "\n",
    "# Generate dummy data\n",
    "\n",
    "model = Sequential()\n",
    "model.add(Conv2D(32, (2, 2), padding='same',\n",
    "                 input_shape=(15, 15, 1)))\n",
    "model.add(LeakyReLU())\n",
    "model.add(Conv2D(64, (2, 2)))\n",
    "model.add(LeakyReLU())\n",
    "model.add(BatchNormalization(axis=3))\n",
    "\n",
    "model.add(Conv2D(128, (5, 5), padding='same'))\n",
    "model.add(LeakyReLU())\n",
    "model.add(Conv2D(128, (5, 5)))\n",
    "model.add(LeakyReLU())\n",
    "model.add(MaxPooling2D(pool_size=(2, 2)))\n",
    "model.add(BatchNormalization(axis=3))\n",
    "\n",
    "model.add(Flatten())\n",
    "model.add(Dense(600))\n",
    "model.add(LeakyReLU())\n",
    "model.add(Dense(225))\n",
    "model.add(Activation('softmax'))\n",
    "\n",
    "# initiate RMSprop optimizer\n",
    "model.compile(loss='categorical_crossentropy', optimizer = 'adam', metrics=['accuracy'])\n",
    "model.summary()"
   ]
  },
  {
   "cell_type": "code",
   "execution_count": 7,
   "metadata": {},
   "outputs": [
    {
     "name": "stdout",
     "output_type": "stream",
     "text": [
      "Epoch 1/2\n",
      "1000000/1000000 [==============================] - 357s 357us/step - loss: 2.8642 - acc: 0.2780\n",
      "Epoch 2/2\n",
      "1000000/1000000 [==============================] - 321s 321us/step - loss: 2.1615 - acc: 0.4136\n"
     ]
    },
    {
     "data": {
      "text/plain": [
       "<keras.callbacks.History at 0x1bd52252a58>"
      ]
     },
     "execution_count": 7,
     "metadata": {},
     "output_type": "execute_result"
    }
   ],
   "source": [
    "model.fit(X_train[:1000000], Y_train_vec, epochs=2, batch_size=64)"
   ]
  },
  {
   "cell_type": "code",
   "execution_count": 8,
   "metadata": {},
   "outputs": [
    {
     "name": "stdout",
     "output_type": "stream",
     "text": [
      "Epoch 1/2\n",
      "1000000/1000000 [==============================] - 235s 235us/step - loss: 1.9455 - acc: 0.4548\n",
      "Epoch 2/2\n",
      "1000000/1000000 [==============================] - 232s 232us/step - loss: 1.8661 - acc: 0.4708\n"
     ]
    },
    {
     "data": {
      "text/plain": [
       "<keras.callbacks.History at 0x1bd52252a20>"
      ]
     },
     "execution_count": 8,
     "metadata": {},
     "output_type": "execute_result"
    }
   ],
   "source": [
    "model.fit(X_train[:1000000], Y_train_vec, epochs=2, batch_size=128)"
   ]
  },
  {
   "cell_type": "code",
   "execution_count": 9,
   "metadata": {},
   "outputs": [
    {
     "name": "stdout",
     "output_type": "stream",
     "text": [
      "Epoch 1/2\n",
      "1000000/1000000 [==============================] - 184s 184us/step - loss: 1.7240 - acc: 0.5016s - los - ETA: 1s - loss: 1.7237 - ac - ETA: 0s - loss: 1.7239 - acc:\n",
      "Epoch 2/2\n",
      "1000000/1000000 [==============================] - 184s 184us/step - loss: 1.6782 - acc: 0.5105s - loss: 1.6770\n"
     ]
    },
    {
     "data": {
      "text/plain": [
       "<keras.callbacks.History at 0x1bd52252b00>"
      ]
     },
     "execution_count": 9,
     "metadata": {},
     "output_type": "execute_result"
    }
   ],
   "source": [
    "model.fit(X_train[:1000000], Y_train_vec, epochs=2, batch_size=256)"
   ]
  },
  {
   "cell_type": "code",
   "execution_count": 10,
   "metadata": {},
   "outputs": [
    {
     "name": "stdout",
     "output_type": "stream",
     "text": [
      "Epoch 1/2\n",
      "1000000/1000000 [==============================] - 154s 154us/step - loss: 1.4812 - acc: 0.5617\n",
      "Epoch 2/2\n",
      "1000000/1000000 [==============================] - 152s 152us/step - loss: 1.4421 - acc: 0.5717\n"
     ]
    },
    {
     "data": {
      "text/plain": [
       "<keras.callbacks.History at 0x1be22f99048>"
      ]
     },
     "execution_count": 10,
     "metadata": {},
     "output_type": "execute_result"
    }
   ],
   "source": [
    "model.fit(X_train[:1000000], Y_train_vec, epochs=2, batch_size=2048)"
   ]
  },
  {
   "cell_type": "code",
   "execution_count": 11,
   "metadata": {},
   "outputs": [],
   "source": [
    "model.save('model.h5')"
   ]
  },
  {
   "cell_type": "markdown",
   "metadata": {},
   "source": [
    "### START HERE FOR LOADING MODEL"
   ]
  },
  {
   "cell_type": "code",
   "execution_count": 2,
   "metadata": {},
   "outputs": [
    {
     "name": "stderr",
     "output_type": "stream",
     "text": [
      "Using TensorFlow backend.\n"
     ]
    }
   ],
   "source": [
    "import keras\n",
    "from keras.models import Sequential\n",
    "from keras.layers import Dense, Dropout, Flatten, BatchNormalization\n",
    "from keras.layers import Conv2D, MaxPooling2D, LeakyReLU, Activation\n",
    "from keras.layers.normalization import BatchNormalization\n",
    "from keras.optimizers import SGD"
   ]
  },
  {
   "cell_type": "code",
   "execution_count": 3,
   "metadata": {},
   "outputs": [],
   "source": [
    "from keras.models import load_model\n",
    "model = load_model('model.h5')"
   ]
  },
  {
   "cell_type": "code",
   "execution_count": 7,
   "metadata": {},
   "outputs": [],
   "source": [
    "def image_predict(model, pos, i):\n",
    "    vec = model.predict(pos)\n",
    "#     move = np.argmax(model.predict(pos)\n",
    "    move = 0\n",
    "    xy = 0\n",
    "    for m in vec[0]:\n",
    "        if (m > move) and (pos[i][xy // 15][xy % 15][0] == 0):\n",
    "            move = xy\n",
    "        xy += 1\n",
    "    image = np.zeros((15, 15))\n",
    "    for k in range(15):\n",
    "        for j in range(15):\n",
    "            image[k][j] = pos[i][k][j][0]\n",
    "    image[move // 15][move % 15] = 255\n",
    "    plt.imshow(image)\n",
    "    return image"
   ]
  },
  {
   "cell_type": "code",
   "execution_count": 8,
   "metadata": {},
   "outputs": [
    {
     "data": {
      "image/png": "[encoded data removed]",
      "text/plain": [
       "<Figure size 432x288 with 1 Axes>"
      ]
     },
     "metadata": {},
     "output_type": "display_data"
    }
   ],
   "source": [
    "image = image_predict(model, pos, 0)"
   ]
  },
  {
   "cell_type": "code",
   "execution_count": 9,
   "metadata": {},
   "outputs": [],
   "source": [
    "def self_play_for_n(model, n):\n",
    "    image = np.zeros((15, 15), dtype=np.uint8)\n",
    "    pos = np.zeros((1, 15, 15, 1))\n",
    "    for i in range(n):\n",
    "#         move = np.argmax(model.predict(pos))\n",
    "        vec = model.predict(pos)\n",
    "        maxmove = 0\n",
    "        move = 0\n",
    "        xy = 0\n",
    "        for m in vec[0]:\n",
    "            if ((m > maxmove) and (pos[0][xy // 15][xy % 15][0] == 0)):\n",
    "                move = xy\n",
    "                maxmove = m\n",
    "            xy += 1\n",
    "        image[move // 15][move % 15] = 127 + 128 * (i % 2)\n",
    "        pos[0][move // 15][move % 15][0] = ((127 + 128 * (i % 2)) / 256)\n",
    "        print(str(i + 1) , \" MOVE : \", str(move // 15), \" \", str(move % 15))\n",
    "    plt.imshow(image)"
   ]
  },
  {
   "cell_type": "code",
   "execution_count": 10,
   "metadata": {
    "scrolled": true
   },
   "outputs": [
    {
     "name": "stdout",
     "output_type": "stream",
     "text": [
      "1  MOVE :  7   8\n",
      "2  MOVE :  6   7\n",
      "3  MOVE :  5   8\n",
      "4  MOVE :  4   7\n",
      "5  MOVE :  5   7\n",
      "6  MOVE :  5   6\n",
      "7  MOVE :  6   5\n",
      "8  MOVE :  4   8\n",
      "9  MOVE :  4   6\n",
      "10  MOVE :  3   5\n",
      "11  MOVE :  4   5\n",
      "12  MOVE :  5   10\n",
      "13  MOVE :  4   10\n",
      "14  MOVE :  3   8\n",
      "15  MOVE :  2   9\n",
      "16  MOVE :  3   9\n",
      "17  MOVE :  3   7\n",
      "18  MOVE :  4   9\n",
      "19  MOVE :  6   11\n",
      "20  MOVE :  2   8\n",
      "21  MOVE :  1   7\n",
      "22  MOVE :  2   10\n",
      "23  MOVE :  1   11\n",
      "24  MOVE :  1   6\n",
      "25  MOVE :  2   7\n",
      "26  MOVE :  1   8\n",
      "27  MOVE :  1   9\n",
      "28  MOVE :  3   3\n",
      "29  MOVE :  4   3\n",
      "30  MOVE :  5   4\n",
      "31  MOVE :  4   4\n",
      "32  MOVE :  4   2\n",
      "33  MOVE :  2   3\n",
      "34  MOVE :  2   4\n",
      "35  MOVE :  1   5\n",
      "36  MOVE :  5   5\n",
      "37  MOVE :  5   3\n",
      "38  MOVE :  4   11\n",
      "39  MOVE :  3   12\n",
      "40  MOVE :  4   13\n"
     ]
    },
    {
     "data": {
      "image/png": "[encoded data removed]",
      "text/plain": [
       "<Figure size 432x288 with 1 Axes>"
      ]
     },
     "metadata": {},
     "output_type": "display_data"
    }
   ],
   "source": [
    "self_play_for_n(model, 40)"
   ]
  },
  {
   "cell_type": "code",
   "execution_count": null,
   "metadata": {},
   "outputs": [],
   "source": []
  }
 ],
 "metadata": {
  "kernelspec": {
   "display_name": "Python 3",
   "language": "python",
   "name": "python3"
  },
  "language_info": {
   "codemirror_mode": {
    "name": "ipython",
    "version": 3
   },
   "file_extension": ".py",
   "mimetype": "text/x-python",
   "name": "python",
   "nbconvert_exporter": "python",
   "pygments_lexer": "ipython3",
   "version": "3.6.2"
  }
 },
 "nbformat": 4,
 "nbformat_minor": 2
}
