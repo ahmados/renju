{
 "cells": [
  {
   "cell_type": "markdown",
   "metadata": {},
   "source": [
    "# HUMAN VS MODEL"
   ]
  },
  {
   "cell_type": "code",
   "execution_count": null,
   "metadata": {},
   "outputs": [],
   "source": [
    "from renju import run, run_test, Player\n",
    "from agent import BackendAgent, Agent, HumanAgent, CnnAgent_2, RandomAgent, DoubleAgent, CnnAgent\n",
    "\n",
    "import collections\n",
    "import itertools\n",
    "import logging\n",
    "import time\n",
    "\n",
    "%matplotlib notebook\n",
    "\n",
    "import tensorflow as tf\n",
    "from keras.models import load_model\n",
    "\n",
    "\n",
    "model_2 = load_model('comp.h5')\n",
    "model_graph = tf.get_default_graph()\n",
    "model = load_model('colab.h5')\n",
    "model_graph_2 = tf.get_default_graph()\n",
    "\n",
    "HUMAN = CnnAgent(color = 'black', name = 'HUMAN')\n",
    "DOUBLE = DoubleAgent(color = 'white', name = 'DOUBLE', model = (model, model_graph), model_2 = (model_2, model_graph_2))\n",
    "\n",
    "run_test(HUMAN, DOUBLE)"
   ]
  },
  {
   "cell_type": "markdown",
   "metadata": {},
   "source": [
    "# MODEL VS HUMAN"
   ]
  },
  {
   "cell_type": "code",
   "execution_count": null,
   "metadata": {},
   "outputs": [],
   "source": [
    "from renju import run, run_test, Player\n",
    "from agent import BackendAgent, Agent, HumanAgent, CnnAgent_2, RandomAgent, DoubleAgent, CnnAgent\n",
    "\n",
    "import collections\n",
    "import itertools\n",
    "import logging\n",
    "import time\n",
    "\n",
    "%matplotlib notebook\n",
    "\n",
    "import tensorflow as tf\n",
    "from keras.models import load_model\n",
    "\n",
    "\n",
    "model_2 = load_model('comp.h5')\n",
    "model_graph = tf.get_default_graph()\n",
    "model = load_model('colab.h5')\n",
    "model_graph_2 = tf.get_default_graph()\n",
    "\n",
    "HUMAN = CnnAgent(color = 'black', name = 'HUMAN')\n",
    "DOUBLE = DoubleAgent(color = 'white', name = 'DOUBLE', model = (model, model_graph), model_2 = (model_2, model_graph_2))\n",
    "\n",
    "run_test(DOUBLE, HUMAN)"
   ]
  },
  {
   "cell_type": "code",
   "execution_count": null,
   "metadata": {},
   "outputs": [],
   "source": []
  }
 ],
 "metadata": {
  "kernelspec": {
   "display_name": "Python 3",
   "language": "python",
   "name": "python3"
  },
  "language_info": {
   "codemirror_mode": {
    "name": "ipython",
    "version": 3
   },
   "file_extension": ".py",
   "mimetype": "text/x-python",
   "name": "python",
   "nbconvert_exporter": "python",
   "pygments_lexer": "ipython3",
   "version": "3.6.2"
  }
 },
 "nbformat": 4,
 "nbformat_minor": 1
}
