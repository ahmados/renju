{
 "cells": [
  {
   "cell_type": "code",
   "execution_count": 12,
   "metadata": {},
   "outputs": [],
   "source": [
    "from renju import run, run_test, Player\n",
    "from agent import BackendAgent, Agent, HumanAgent, CnnAgent_2, RandomAgent, DoubleAgent, CnnAgent\n",
    "\n",
    "import collections\n",
    "import itertools\n",
    "import logging\n",
    "import time\n",
    "\n",
    "%matplotlib notebook"
   ]
  },
  {
   "cell_type": "code",
   "execution_count": 13,
   "metadata": {},
   "outputs": [],
   "source": [
    "import tensorflow as tf\n",
    "from keras.models import load_model"
   ]
  },
  {
   "cell_type": "code",
   "execution_count": 14,
   "metadata": {},
   "outputs": [],
   "source": [
    "# DEF_PY_PATH = '/home/Desktop/Renju'\n",
    "\n",
    "# class Config:\n",
    "#     def __init__(self, name, cmd, cwd, py_path=DEF_PY_PATH):\n",
    "#         self.name = name\n",
    "#         self.cmd = cmd\n",
    "#         self.cwd = cwd\n",
    "#         self.py_path = py_path\n",
    "        \n",
    "#     def create_agent(self):\n",
    "#         return BackendAgent(\n",
    "#             self.cmd,\n",
    "#             self.name,\n",
    "#             env = {'PYTHONPATH': self.py_path},\n",
    "#             cwd = self.cwd\n",
    "#         )\n",
    "        \n",
    "# hardy = Config(\n",
    "#     'Hardy',\n",
    "#     '/home/dasimagin/sandbox/envs/hardy/bin/python /home/dasimagin/sandbox/hardy/renju/search_agent.py',\n",
    "#     '/home/dasimagin/sandbox/hardy/renju/'\n",
    "# )\n",
    "\n",
    "# pierre = Config(\n",
    "#     'Pierre',\n",
    "#     '/home/dasimagin/sandbox/envs/pierre/bin/python /home/dasimagin/sandbox/pierre/contest/tree_search.py',\n",
    "#     '/home/dasimagin/sandbox/pierre/contest'\n",
    "# )\n",
    "\n",
    "# lolita = Config(\n",
    "#     'Lolita',\n",
    "#     '/home/dasimagin/sandbox/envs/lolita/bin/python /home/dasimagin/sandbox/lolita/contest/my_agent.py',\n",
    "#     '/home/dasimagin/sandbox/lolita/contest'\n",
    "# )\n",
    "\n",
    "# elena = Config(\n",
    "#     'Elena',\n",
    "#     '/home/dasimagin/sandbox/envs/elena/bin/python /home/dasimagin/sandbox/elena/src/ham_agent.py',\n",
    "#     '/home/dasimagin/sandbox/elena/src'\n",
    "# )\n",
    "\n",
    "# john = Config(\n",
    "#     'John 8=э',\n",
    "#     '/home/dasimagin/sandbox/envs/john/bin/python /home/dasimagin/sandbox/john/competition/player/mcts_agent.py',\n",
    "#     '/home/dasimagin/sandbox/john/competition/player'\n",
    "# )\n",
    "\n",
    "# configs = [hardy, pierre, lolita, elena, john]"
   ]
  },
  {
   "cell_type": "code",
   "execution_count": 15,
   "metadata": {},
   "outputs": [],
   "source": [
    "# logging.basicConfig(\n",
    "#     format='%(asctime)s %(message)s',\n",
    "#     filename='competition.log',\n",
    "#     level=logging.DEBUG\n",
    "# )\n",
    "\n",
    "# table = competition(configs, game_n=1)"
   ]
  },
  {
   "cell_type": "code",
   "execution_count": 16,
   "metadata": {},
   "outputs": [],
   "source": [
    "# for name, score in table:\n",
    "#     print('{name}: {score}'.format(name=name, score=score))"
   ]
  },
  {
   "cell_type": "code",
   "execution_count": null,
   "metadata": {},
   "outputs": [
    {
     "name": "stderr",
     "output_type": "stream",
     "text": [
      "/usr/local/lib/python3.6/site-packages/keras/engine/topology.py:1271: UserWarning: The `Merge` layer is deprecated and will be removed after 08/2017. Use instead layers from `keras.layers.merge`, e.g. `add`, `concatenate`, etc.\n",
      "  return cls(**config)\n"
     ]
    }
   ],
   "source": [
    "model_2 = load_model('comp.h5')\n",
    "model_graph = tf.get_default_graph()\n",
    "model = load_model('colab.h5')\n",
    "model_graph_2 = tf.get_default_graph()\n",
    "\n",
    "HUMAN = CnnAgent(color = 'black', name = 'SUMEKENOV', model = (model, model_graph))\n",
    "DOUBLE = DoubleAgent(color = 'white', name = 'DOUBLE', model = (model, model_graph), model_2 = (model_2, model_graph_2))\n",
    "\n",
    "\n",
    "\n",
    "run_test(HUMAN, DOUBLE)"
   ]
  },
  {
   "cell_type": "code",
   "execution_count": 7,
   "metadata": {},
   "outputs": [],
   "source": [
    "import numpy"
   ]
  },
  {
   "cell_type": "code",
   "execution_count": null,
   "metadata": {},
   "outputs": [],
   "source": []
  }
 ],
 "metadata": {
  "kernelspec": {
   "display_name": "Python 3",
   "language": "python",
   "name": "python3"
  },
  "language_info": {
   "codemirror_mode": {
    "name": "ipython",
    "version": 3
   },
   "file_extension": ".py",
   "mimetype": "text/x-python",
   "name": "python",
   "nbconvert_exporter": "python",
   "pygments_lexer": "ipython3",
   "version": "3.6.2"
  }
 },
 "nbformat": 4,
 "nbformat_minor": 1
}
