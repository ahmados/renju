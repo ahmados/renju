{
 "cells": [
  {
   "cell_type": "markdown",
   "metadata": {},
   "source": [
    "## L1 - Linear models and gradient descent\n",
    "\n",
    "### Books\n",
    "1. [Deep Learning, I. Goodfellow, Y. Bengio and A. Courville](http://www.deeplearningbook.org/)\n",
    "2. [Neural networks for pattern recognition, C. Bishop](http://cs.du.edu/~mitchell/mario_books/Neural_Networks_for_Pattern_Recognition_-_Christopher_Bishop.pdf)\n",
    "3. [Machine learning: a probabilistic perspective, K. Murphy](http://dsd.future-lab.cn/members/2015nlp/Machine_Learning.pdf)"
   ]
  },
  {
   "cell_type": "markdown",
   "metadata": {},
   "source": [
    "### 0. Basic classification\n",
    "\n",
    "Here you can see basic (possible, non standard) classification of [machine learning](https://en.wikipedia.org/wiki/Machine_learning) tasks.\n",
    "1. [Supervised learning](https://en.wikipedia.org/wiki/Supervised_learning)\n",
    " 1. [Regression](https://en.wikipedia.org/wiki/Regression_analysis)\n",
    " 2. [Classification](https://en.wikipedia.org/wiki/Statistical_classification)\n",
    " 3. [Ranking](https://en.wikipedia.org/wiki/Learning_to_rank)\n",
    "2. [Reinforcment learning](https://en.wikipedia.org/wiki/Reinforcement_learning)\n",
    "3. [Unsupervised learning](https://en.wikipedia.org/wiki/Unsupervised_learning)\n",
    " 1. Clustering \n",
    " 2. Manifold learning\n",
    " 3. Matrix decompostion (factorization)\n",
    " 4. Dimension reduction\n",
    " \n",
    "In this lab we consider only supervised learning. Namely, linear regression and binary linear classification, as simple methods for beginning."
   ]
  },
  {
   "cell_type": "markdown",
   "metadata": {},
   "source": [
    "### 1. Supervised learning basics\n",
    "A supervised learning algorithm is an algorithm that is able to learn from data. Now we need only to clarify what is data and what it means to learn?\n",
    "\n",
    "Let $\\{x_i\\}_{i=1}^{\\mathcal{l}} \\subset \\mathbb{X} = \\mathbb{R}^{n}$ and $\\{y_i\\}_{i=1}^{\\mathcal{l}} \\subset \\mathbb{Y}$. Here $\\mathbb{X}$ is the whole set of objects and $\\mathbb{Y}$ is all possible labels of objects, so $\\{x_i\\}_{i=1}^{\\mathcal{l}}$ is subset with known labels $\\{y_i\\}_{i=1}^{\\mathcal{l}}$. We want to find algorithm, that can predict $y$ for any $x \\in \\mathbb{X}$. Actually, $x = (x^1, \\dots, x^n)$ is some vector of features (formal description), but $x^k$ can have different nature. \n",
    "\n",
    "* $x^k \\in \\{0, 1\\}$ – binary feature, boolean flag\n",
    "* $x^k \\in \\{1,\\dots, m\\}$ – categorical (nominal), classification of entities into particular categories.\n",
    "* $x^k \\in \\{1,\\dots, m\\}^<$ – ordinal, classification of entities in some kind of ordered relationship.\n",
    "* $x^k \\in \\mathbb{R}$ – cardinal, classification based on a numerical value.\n",
    "\n",
    "Categorical features are commonly encoded in some way (for exaple [one-hot encoding](https://en.wikipedia.org/wiki/One-hot)) to ignore false ordering (important for metric algorithms). Moreover it's possible to cast any type of feature to $\\mathbb{R}$, that's why we suppouse that $\\mathbb{X} = \\mathbb{R}^{n}$ further.\n",
    "\n",
    "Process of finding algorithm, that can predict labels, is called training. Usually, it is reduced to minimization problem of the empirical risk.\n",
    "$$\\arg \\min_{\\theta} Q(\\theta) = \\arg \\min_{\\theta} \\frac{1}{\\mathcal{l}}\\sum_{i=1}^{\\mathcal{l}} \\mathcal{L}(f(x_i | \\theta), y_i).$$\n",
    "Here $\\mathcal{L}$ – some loss function that shows how good we predict $y$, and $f(x|\\theta)$ is parametric function, where $\\theta \\in \\Theta$."
   ]
  },
  {
   "cell_type": "markdown",
   "metadata": {},
   "source": [
    "### 2. Linear regression\n",
    "For regression task $\\mathbb{Y} = \\mathbb{R}$. In case of linear model we have learning vector of parameters $w \\in \\mathbb{R}^n$ and predict $y$ as \n",
    "$$y = w^Tx + b.$$\n",
    "\n",
    "For simplicity, let the last element of $x$ is always $1$ and $w$ is concatenation of $[w, b]$. So, we can rewrite model as $y = w^Tx$. For MSE (mean square error) we have the following optimization problem\n",
    "$$\\arg \\min_{w} Q(w) = \\arg \\min_{w} \\sum_{i=1}^{\\mathcal{l}}\\big(w^Tx_i - y_i\\big)^2.$$\n",
    "\n",
    "Let $X$ is matrix, where $i$-th row is feature vector of $i$-th object and $Y$ – vector of labels. In this case our expression can be rewritten in matrix form\n",
    "$$\\arg\\min_{w}||Xw - Y ||_{2}.$$\n",
    "But this problem is already well studied and has the analytical solution\n",
    "$$w = (X^TX)^{-1}X^TY.$$\n",
    "\n",
    "#### Exercises\n",
    "1. Let $y = sin(x) + \\varepsilon$, where $x \\in [0, 2\\pi]$ and $\\varepsilon \\sim \\mathcal{N}(0, 0.1)$. Generate 20 train samples and try to learn regression model.\n",
    "2. Plot train data and model's predictions.\n",
    "3. As you see, model has no enough capacity to fit train data. Let's add polynomial features, namely $x^2$ and $x^3$.\n",
    "4. Train linear model one more time and plot results again.\n",
    "5. What happens if you add more features, for example full range $x^{0},\\dots,x^{7}$? "
   ]
  },
  {
   "cell_type": "code",
   "execution_count": 36,
   "metadata": {
    "collapsed": true
   },
   "outputs": [],
   "source": [
    "import numpy as np\n",
    "import scipy as sp\n",
    "from numpy.linalg import inv"
   ]
  },
  {
   "cell_type": "code",
   "execution_count": 42,
   "metadata": {
    "collapsed": true
   },
   "outputs": [],
   "source": [
    "def f(x, w):\n",
    "    return x*w[0] + x*x*w[1] + x*x*x*w[2]"
   ]
  },
  {
   "cell_type": "code",
   "execution_count": 56,
   "metadata": {},
   "outputs": [
    {
     "data": {
      "text/plain": [
       "array([ 1.74387394, -0.82947178,  0.08854596])"
      ]
     },
     "execution_count": 56,
     "metadata": {},
     "output_type": "execute_result"
    }
   ],
   "source": [
    "x_train = np.zeros((20, 3))\n",
    "# Наша тренировачная выборка:\n",
    "x_train[:, 0] = 2 * np.pi * np.random.rand(20)\n",
    "x_train[:, 0] = np.sort(x_train[:, 0])\n",
    "# Добавим x^2 и x^3\n",
    "for i in range(2):\n",
    "    x_train[:, i + 1] = np.power(x_train[:, 0], i + 2)\n",
    "y_train = np.sin(x_train[:, 0]) + 0.1 * np.random.randn(20)\n",
    "# Вычислим веса по формуле матриц\n",
    "w = np.dot(np.dot(inv(np.dot(np.transpose(x_train), x_train)), np.transpose(x_train)), y_train)\n",
    "w"
   ]
  },
  {
   "cell_type": "markdown",
   "metadata": {},
   "source": [
    "Построим график настоящих значений y (красные точки) и предсказаний нашей модели(зеленая линия)"
   ]
  },
  {
   "cell_type": "code",
   "execution_count": 57,
   "metadata": {},
   "outputs": [
    {
     "data": {
      "image/png": "[encoded data removed]",
      "text/plain": [
       "<matplotlib.figure.Figure at 0x11a856320>"
      ]
     },
     "metadata": {},
     "output_type": "display_data"
    }
   ],
   "source": [
    "import matplotlib.pyplot as plt\n",
    "plt.plot(x_train[:, 0], y_train, 'ro', x_train[:, 0], f(x_train[:, 0], w), 'g-')\n",
    "plt.show()"
   ]
  },
  {
   "cell_type": "markdown",
   "metadata": {},
   "source": [
    "### 3. Validation\n",
    "The data used to build the final model usually comes from multiple datasets. In particular, three data sets are commonly used in different stages of the creation of the model.\n",
    "\n",
    "1. We initially fit our parameters on a __training dataset__, that consists of pairs of a feature vector and the corresponding answer. The current model is run with the training dataset and produces a result, which is then compared with the target, for each input vector in the training dataset. Based on the result of the comparison and the specific learning algorithm being used, the parameters of the model are adjusted. The model fitting can include both variable selection and parameter estimation.\n",
    "\n",
    "2. Second one called the __validation dataset__. The validation dataset provides an unbiased evaluation of a model fit on the training dataset while tuning the model's hyperparameters (e.g. regularization coefficient or number of hidden units in a neural network). Validation datasets can be used for regularization by early stopping: stop training when the error on the validation dataset increases, as this is a sign of overfitting to the training dataset. This simple procedure is complicated in practice by the fact that the validation dataset's error may fluctuate during training. This complication has led to the creation of many ad-hoc rules for deciding when overfitting has truly begun.\n",
    "\n",
    "3. Finally, the __test dataset__ is a dataset used to provide an unbiased evaluation of a final trained model.\n",
    "\n",
    "Cross-validation is a validation technique for estimating how accurately a predictive model will perform in practice. The goal of cross validation is to limit problems like overfitting, give an insight on how the model will generalize to an independent dataset.\n",
    "\n",
    "Cross-validation involves partitioning a sample of data into complementary subsets, performing the analysis on one subset and making validation on the other. To reduce variability, multiple rounds of cross-validation are performed using different partitions, and the validation results are caveraged over the rounds to estimate a final predictive model.\n",
    "\n",
    "There are following types:\n",
    "1. Leave-p-out cross-validation - using p observations as the validation set with all possible ways.\n",
    "2. k-fold cross-validation - split data into k folds and using each one as validation set.\n",
    "3. Holdout validation - randomly split data into training and validation set\n",
    "4. Repeated random sub-sampling validation - repeatedly make random splits of data into training and validation set\n",
    "\n",
    "#### Exercises\n",
    "1. Generate 20 validation samples\n",
    "2. Check quality of your model on train set and validation set.\n",
    "3. Have you experienced [overfitting](https://en.wikipedia.org/wiki/Overfitting)?\n",
    "4. Please, read [this article](https://en.wikipedia.org/wiki/VC_dimension) to learn more about model capacity and VC-dimension."
   ]
  },
  {
   "cell_type": "markdown",
   "metadata": {},
   "source": [
    "### 4. Binary linear classification\n",
    "Let $\\mathbb{Y} = \\{-1, +1\\}$ for binary classification. So linear model looks like\n",
    "$$sign(w^Tx + b),$$\n",
    "where $w$ is normal to the separating plane, which is defined parametrically $w^Tx+b=0$. In the half-space, which normal is directed, all points has class +1, otherwise -1. Let's assume that all points of hyperplane has class +1 to resolve the ambiguity. Also we rewrite model in the short variant $sign(w^Tx)$.\n",
    "\n",
    "As with regression, training of linear classifier may be reduced to an optimization problem. We only have to specify the loss function. The most nature option is\n",
    "$$\\mathcal{L}(y_{pred}, y_{true}) = [y_{pred} \\neq y_{true}] = [M < 0],$$\n",
    "where $M$ is the margin value $yw^Tx$, which indicates how far the classifier puts a point in its class. But this loss has one drawback, it's not differentiable. That's why the optimization problem becomes very complex. However we can use any other function, which majorizes this loss. You can find some popular options below\n",
    "\n",
    "1. MSE has one big advantage, we optimize convex function with a local minimum. Moreover analytic solution exists.\n",
    "$$\\big(w^Tx - y \\big)^2$$\n",
    "\n",
    "2. Hinge loss function makes our linear classifier [SVM](https://en.wikipedia.org/wiki/Support_vector_machine) (support vector machine).\n",
    "$$max \\big(0, 1 - yw^Tx \\big)$$\n",
    "\n",
    "3. Logistic loss function has a probabilistic meaning. In particular, this loss leads us to the optimal [Bayesian classifier](https://en.wikipedia.org/wiki/Naive_Bayes_classifier) under certain assumptions on the distribution of features. But it's a different story. So it is often used in practice.\n",
    "$$\\ln \\big( 1 + \\exp(-yw^Tx) \\big)$$"
   ]
  },
  {
   "cell_type": "markdown",
   "metadata": {},
   "source": [
    "#### Exercises\n",
    "1. Let $\\mathbb{P}\\{y=1|x\\} = \\sigma(wx)$, where $\\sigma(z) = \\frac{1}{1 + \\exp(-z)}$. Show that problem below it is nothing like the maximization of the likelihood.\n",
    "$$\\arg\\min_{w}Q(w) = \\arg\\min_{w} \\sum_{x, y} \\ln \\big(1 + \\exp(-yw^Tx )) \\big)$$\n",
    "2. Plot all loss functions in the axes $M \\times L$.\n",
    "3. Generate two normally distributed sets of points on the plane.\n",
    "4. Let points of 1th set (red color) have class +1 and point of 2d set (blue color) have -1.\n",
    "5. Train linear classifier with MSE (use analytical solution), which splits these sets.\n",
    "6. Plot points and separating line of trained classifier.\n",
    "7. What is time comlexity of your solution?"
   ]
  },
  {
   "cell_type": "markdown",
   "metadata": {},
   "source": [
    "### 5. Gradient descent\n",
    "Gradient descent is a first-order iterative optimization algorithm for finding the minimum of a function. To find a local minimum of a function using gradient descent, one takes steps proportional to the negative of the gradient of the function at the current point. Gradient descent is based on the observation that if function $Q(x)$ is defined and differentiable in a neighborhood of a point $x$, then $Q(x)$ decreases fastest if one goes from $x$  in the direction of the negative gradient.\n",
    "\n",
    "$$x^{k+1} = x^{k} - \\lambda \\cdot \\triangledown Q(x)$$\n",
    "\n",
    "Here $\\lambda$ is step of descent and  $k$ – step number. If $\\lambda$ is too large then algorithm may not converge, otherwise training can last a long time. Also there is rather popular hack to slowly decrease $\\lambda$ with each step. You need to understand that gradient descent finds exactly local minimum. The easiest way to fight this problem is make several runs of algorithm or have good initialization.\n",
    "\n",
    "#### Exercises\n",
    "1. Suggest some quadratic function $Q: \\mathbb{R}^2 \\rightarrow \\mathbb{R}$ with global minimum.\n",
    "2. Find minimum with gradient descent method.\n",
    "3. Plot contour lines.\n",
    "4. Trace the path of gradient descent.\n",
    "5. How do you choose $\\lambda$?\n",
    "6. Evaluate time complexity of solution."
   ]
  },
  {
   "cell_type": "markdown",
   "metadata": {},
   "source": [
    "There is category of function which naive gradient descent works poorly for, e.g. [Rosenbrock function](https://en.wikipedia.org/wiki/Rosenbrock_function).\n",
    "$$f(x, y) = (1-x)^2 + 100(y-x^2)^2.$$\n",
    "\n",
    "#### Exercises\n",
    "1. Repeat previous steps for Rosenbrock function.\n",
    "2. What problem do you face?\n",
    "3. Is there any solution?"
   ]
  },
  {
   "cell_type": "markdown",
   "metadata": {},
   "source": [
    "There are some variations of the method, for example steepest descent, where we find optimal $\\lambda$ for each step.\n",
    "$$\\lambda^{k} = \\arg\\min_{\\lambda}Q(x_k - \\lambda\\triangledown Q(x_k)).$$\n",
    "\n",
    "#### Exercises\n",
    "1. Split red and blue sets of points again. Train linear model using gradient descent and MSE.\n",
    "2. Plot your splitting line. Compare with analytical solution.\n",
    "3. Try steepest descent.\n",
    "4. Comare gradient descent methods and show its convergence in axes $[step \\times Q]$."
   ]
  },
  {
   "cell_type": "markdown",
   "metadata": {},
   "source": [
    "### 6. Stochastic gradient descent"
   ]
  },
  {
   "cell_type": "markdown",
   "metadata": {},
   "source": [
    "Sometimes you have so huge amount of data, that usual gradient descent becomes too slow. One more option, we have deal with data flow. In this case stochastic gradient method appears on the stage. The idea is simple. You can do a descent step, calculating error and gradient not for all samples, but for some small batch only.\n",
    "\n",
    "#### Еxercises\n",
    "1. Download [mnist](https://www.kaggle.com/c/digit-recognizer).\n",
    "2. Train linear classificator for digits 0 and 1, using logistic loss function and stochastic gradient descent.\n",
    "3. Use holdout to check [accuracy](https://en.wikipedia.org/wiki/Accuracy_and_precision) of classification.\n",
    "4. How do accuracy and training time depend on bathch size?\n",
    "5. Plot graphic that proves your words.\n",
    "6. How many epochs you use? Why?\n",
    "7. Plot value of loss function for each step (try use [exponential smoothing](https://en.wikipedia.org/wiki/Exponential_smoothing))."
   ]
  },
  {
   "cell_type": "markdown",
   "metadata": {},
   "source": [
    "#### Momentum method\n",
    "Stochastic gradient descent with momentum remembers the update of $x$ at each iteration, and determines the next update as a linear combination of the gradient and the previous update\n",
    "$$x^{k+1} = x^{k} - s^{k},$$ where $s^k = \\gamma s^{k-1} + \\lambda\\triangledown Q(x^k)$, $0 <\\gamma < 1$ – smoothing ratio and $s^{-1} = 0$.\n",
    "\n",
    "#### Еxercises\n",
    "1. Find minimum for $Q(x,y)=10x^2+y^2$ with descent method.\n",
    "2. Use momentum method and compare pathes.\n",
    "3. How do you choose $\\gamma$?"
   ]
  },
  {
   "cell_type": "markdown",
   "metadata": {},
   "source": [
    "#### Nesterov accelerated gradient\n",
    "And the logical development of this approach leads to the accelerated Nesterov's gradient. The descent step is calculated a little differently\n",
    "$$s^k = \\gamma s^{k-1} + \\lambda\\triangledown Q(x^k - \\gamma s^{k-1}),$$\n",
    "so we find gradient at the point which moment will move us.\n",
    "\n",
    "#### Еxercises\n",
    "1. Compare this method and previous with Rosenbrock function.\n",
    "2. Plot traces of both algorithms."
   ]
  },
  {
   "cell_type": "markdown",
   "metadata": {},
   "source": [
    "#### Adagrad (2011)\n",
    "Adaptive gradient finds lambda for each dimension of the input vector x. Informally speaking, for sparce features it makes a bigger step, but for regular ones smaller step.\n",
    "$$x_{i}^{k + 1} = x_{i}^{k} - \\frac{\\lambda}{\\sqrt{G_{i, i}^k } + \\varepsilon} \\cdot \\frac{\\partial Q}{\\partial x_i}(x^k),$$\n",
    "* $G^{k} = \\sum_{t=1}^{k}g_t g_t^{T}$, где $g_t = \\triangledown Q(x^t)$.\n",
    "* $\\varepsilon$ - epsilon to avoid division by zero.\n",
    "It improves convergence of the learning process (e.g. when using neural networks for text).\n",
    "\n",
    "#### RMSprop\n",
    "To avoid growth of the denominator we can use the following modification. Let's calculate the matrix $G^k$ only for a small number of latest steps, it can be done for example using exponential smoothing.\n",
    "$$G^{k+1} = \\gamma G^{k} + (1 - \\gamma)g_{k+1}g_{k+1}^{T},$$\n",
    "where $0< \\gamma < 1$ - smoothing factor\n",
    "\n",
    "#### Еxercises\n",
    "1. Read about adadelta and adam (links below).\n",
    "2. Give an example of a function that can show the difference in the studied stohastic gradient methods.\n",
    "3. Show animation step by step how methods work.\n",
    "4. Use your favorite method on mnist dataset again.\n",
    "5. Show convergence of alrotigthm.\n",
    "6. Check quality, using holdout.\n",
    "\n",
    "#### Papers\n",
    "1. [Adadelta (2012)](https://arxiv.org/pdf/1212.5701.pdf)\n",
    "2. [Adam (2015)](https://arxiv.org/pdf/1412.6980.pdf)"
   ]
  }
 ],
 "metadata": {
  "kernelspec": {
   "display_name": "Python 3",
   "language": "python",
   "name": "python3"
  },
  "language_info": {
   "codemirror_mode": {
    "name": "ipython",
    "version": 3
   },
   "file_extension": ".py",
   "mimetype": "text/x-python",
   "name": "python",
   "nbconvert_exporter": "python",
   "pygments_lexer": "ipython3",
   "version": "3.6.1"
  }
 },
 "nbformat": 4,
 "nbformat_minor": 1
}
